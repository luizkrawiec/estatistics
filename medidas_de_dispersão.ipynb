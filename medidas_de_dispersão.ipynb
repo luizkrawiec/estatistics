{
  "nbformat": 4,
  "nbformat_minor": 0,
  "metadata": {
    "colab": {
      "provenance": [],
      "authorship_tag": "ABX9TyM+lpwVpNA7vif1Jhj0NsGc",
      "include_colab_link": true
    },
    "kernelspec": {
      "name": "python3",
      "display_name": "Python 3"
    },
    "language_info": {
      "name": "python"
    }
  },
  "cells": [
    {
      "cell_type": "markdown",
      "metadata": {
        "id": "view-in-github",
        "colab_type": "text"
      },
      "source": [
        "<a href=\"https://colab.research.google.com/github/luizkrawiec/estatistics/blob/main/medidas_de_dispers%C3%A3o.ipynb\" target=\"_parent\"><img src=\"https://colab.research.google.com/assets/colab-badge.svg\" alt=\"Open In Colab\"/></a>"
      ]
    },
    {
      "cell_type": "code",
      "execution_count": 4,
      "metadata": {
        "id": "UfQ2_n4Hsxri"
      },
      "outputs": [],
      "source": [
        "import pandas as pd\n",
        "import numpy as np\n",
        "import matplotlib.pyplot as plt\n",
        "import seaborn as sns\n",
        "import plotly.express as px"
      ]
    },
    {
      "cell_type": "code",
      "source": [
        "enem_sp = pd.read_csv('/content/enem_2019_tratado.csv', sep=',', encoding='iso-8859-1')"
      ],
      "metadata": {
        "id": "qUjTByMYtISs"
      },
      "execution_count": 6,
      "outputs": []
    },
    {
      "cell_type": "markdown",
      "source": [
        "# **Medidas de Dispersão**"
      ],
      "metadata": {
        "id": "xTYa_RRyBoK3"
      }
    },
    {
      "cell_type": "code",
      "source": [
        "enem_sp['NOTA_MT'].var() #variância"
      ],
      "metadata": {
        "colab": {
          "base_uri": "https://localhost:8080/"
        },
        "id": "8CdF_WeO9aT3",
        "outputId": "6f941171-6649-497a-c186-3a84b310c462"
      },
      "execution_count": 7,
      "outputs": [
        {
          "output_type": "execute_result",
          "data": {
            "text/plain": [
              "33659.47050441148"
            ]
          },
          "metadata": {},
          "execution_count": 7
        }
      ]
    },
    {
      "cell_type": "code",
      "source": [
        "enem_sp.NOTA_MT.var()"
      ],
      "metadata": {
        "colab": {
          "base_uri": "https://localhost:8080/"
        },
        "id": "DmPYy_0mB9NC",
        "outputId": "ec970b90-0efe-4d55-f9bd-9aa4f3647fbb"
      },
      "execution_count": 8,
      "outputs": [
        {
          "output_type": "execute_result",
          "data": {
            "text/plain": [
              "33659.47050441148"
            ]
          },
          "metadata": {},
          "execution_count": 8
        }
      ]
    },
    {
      "cell_type": "code",
      "source": [
        "enem_sp['NOTA_MT'].std() #desvio padrão"
      ],
      "metadata": {
        "colab": {
          "base_uri": "https://localhost:8080/"
        },
        "id": "V3A1BA8YCCKV",
        "outputId": "b0f2ae88-7671-4a65-9e27-47fc3107cd45"
      },
      "execution_count": 9,
      "outputs": [
        {
          "output_type": "execute_result",
          "data": {
            "text/plain": [
              "183.46517518158993"
            ]
          },
          "metadata": {},
          "execution_count": 9
        }
      ]
    },
    {
      "cell_type": "code",
      "source": [
        "enem_sp.NOTA_MT.mean()"
      ],
      "metadata": {
        "colab": {
          "base_uri": "https://localhost:8080/"
        },
        "id": "s-9HjEYXCG6I",
        "outputId": "ec54015f-cbf3-4f15-a711-b3bd06bbf16e"
      },
      "execution_count": 10,
      "outputs": [
        {
          "output_type": "execute_result",
          "data": {
            "text/plain": [
              "497.5942403088371"
            ]
          },
          "metadata": {},
          "execution_count": 10
        }
      ]
    },
    {
      "cell_type": "code",
      "source": [
        "(enem_sp.NOTA_MT-enem_sp.NOTA_MT.mean()).abs().mean() #desvio absoluto"
      ],
      "metadata": {
        "colab": {
          "base_uri": "https://localhost:8080/"
        },
        "id": "-MslSEr0Ckgz",
        "outputId": "e2986e54-697b-478c-d07d-fde52492925e"
      },
      "execution_count": 16,
      "outputs": [
        {
          "output_type": "execute_result",
          "data": {
            "text/plain": [
              "132.98102283464956"
            ]
          },
          "metadata": {},
          "execution_count": 16
        }
      ]
    },
    {
      "cell_type": "code",
      "source": [
        "enem_sp.NOTA_REDACAO.var()"
      ],
      "metadata": {
        "colab": {
          "base_uri": "https://localhost:8080/"
        },
        "id": "sSfZ1EigCyeZ",
        "outputId": "852211e8-9f76-454c-84e9-39da4b7d94a6"
      },
      "execution_count": 14,
      "outputs": [
        {
          "output_type": "execute_result",
          "data": {
            "text/plain": [
              "29082.774122780305"
            ]
          },
          "metadata": {},
          "execution_count": 14
        }
      ]
    },
    {
      "cell_type": "code",
      "source": [
        "enem_sp.NOTA_REDACAO.std()"
      ],
      "metadata": {
        "colab": {
          "base_uri": "https://localhost:8080/"
        },
        "id": "oakIe3KGEL3P",
        "outputId": "f09a4355-6e5d-4201-c76a-006c6bbb31f8"
      },
      "execution_count": 17,
      "outputs": [
        {
          "output_type": "execute_result",
          "data": {
            "text/plain": [
              "170.53672367786447"
            ]
          },
          "metadata": {},
          "execution_count": 17
        }
      ]
    },
    {
      "cell_type": "code",
      "source": [
        "enem_sp.NOTA_REDACAO.mean()"
      ],
      "metadata": {
        "colab": {
          "base_uri": "https://localhost:8080/"
        },
        "id": "SMP5xbz2EXoM",
        "outputId": "be173ee9-5c61-46fd-f646-f75edce6a7d5"
      },
      "execution_count": 18,
      "outputs": [
        {
          "output_type": "execute_result",
          "data": {
            "text/plain": [
              "593.0183221986639"
            ]
          },
          "metadata": {},
          "execution_count": 18
        }
      ]
    },
    {
      "cell_type": "code",
      "source": [
        "enem_sp.describe().T"
      ],
      "metadata": {
        "colab": {
          "base_uri": "https://localhost:8080/",
          "height": 677
        },
        "id": "Dtrl6AC_EciG",
        "outputId": "890137d5-c22e-4ffe-e3c3-56f34d62e4f7"
      },
      "execution_count": 20,
      "outputs": [
        {
          "output_type": "execute_result",
          "data": {
            "text/plain": [
              "                      count          mean            std         min  \\\n",
              "IDADE              499940.0  2.059339e+01       6.465291        12.0   \n",
              "TP_ESTADO_CIVIL    499940.0  1.053206e+00       0.380866         0.0   \n",
              "TP_NACIONALIDADE   499940.0  1.029902e+00       0.230986         0.0   \n",
              "TP_ST_CONCLUSAO    499940.0  1.476085e+00       0.510351         1.0   \n",
              "CO_ESCOLA          176894.0  3.521138e+07  443039.197080  11003065.0   \n",
              "TP_PRESENCA_CN     499940.0  1.000000e+00       0.000000         1.0   \n",
              "TP_PRESENCA_CH     499940.0  1.000000e+00       0.000000         1.0   \n",
              "TP_PRESENCA_LC     499940.0  1.000000e+00       0.000000         1.0   \n",
              "TP_PRESENCA_MT     499940.0  1.000000e+00       0.000000         1.0   \n",
              "NOTA_CN            499940.0  4.499170e+02     152.982255         0.0   \n",
              "NOTA_CH            499940.0  4.822281e+02     161.122963         0.0   \n",
              "NOTA_LC            499940.0  4.919413e+02     156.247134         0.0   \n",
              "NOTA_MT            499940.0  4.975942e+02     183.465175         0.0   \n",
              "TP_STATUS_REDACAO  499940.0  1.072105e+00       0.584314         1.0   \n",
              "COMP1              499940.0  1.250008e+02      28.629513         0.0   \n",
              "COMP2              499940.0  1.270668e+02      39.846083         0.0   \n",
              "COMP3              499940.0  1.187607e+02      36.778882         0.0   \n",
              "COMP4              499940.0  1.249894e+02      33.879299         0.0   \n",
              "COMP5              499940.0  9.720070e+01      57.787427         0.0   \n",
              "NOTA_REDACAO       499940.0  5.930183e+02     170.536724         0.0   \n",
              "\n",
              "                          25%         50%         75%         max  \n",
              "IDADE                    17.0        18.0        21.0        91.0  \n",
              "TP_ESTADO_CIVIL           1.0         1.0         1.0         4.0  \n",
              "TP_NACIONALIDADE          1.0         1.0         1.0         4.0  \n",
              "TP_ST_CONCLUSAO           1.0         1.0         2.0         4.0  \n",
              "CO_ESCOLA          35016251.0  35044957.0  35290701.0  53001036.0  \n",
              "TP_PRESENCA_CN            1.0         1.0         1.0         1.0  \n",
              "TP_PRESENCA_CH            1.0         1.0         1.0         1.0  \n",
              "TP_PRESENCA_LC            1.0         1.0         1.0         1.0  \n",
              "TP_PRESENCA_MT            1.0         1.0         1.0         1.0  \n",
              "NOTA_CN                 412.4       478.1       544.4       860.9  \n",
              "NOTA_CH                 450.6       523.7       578.1       822.7  \n",
              "NOTA_LC                 490.1       538.3       576.2       772.3  \n",
              "NOTA_MT                 427.9       511.8       617.9       984.7  \n",
              "TP_STATUS_REDACAO         1.0         1.0         1.0         9.0  \n",
              "COMP1                   120.0       120.0       140.0       200.0  \n",
              "COMP2                   120.0       120.0       140.0       200.0  \n",
              "COMP3                   100.0       120.0       140.0       200.0  \n",
              "COMP4                   120.0       120.0       140.0       200.0  \n",
              "COMP5                    60.0       100.0       140.0       200.0  \n",
              "NOTA_REDACAO            500.0       600.0       680.0      1000.0  "
            ],
            "text/html": [
              "\n",
              "  <div id=\"df-284bdf83-0522-4c52-9493-7a7a47948637\" class=\"colab-df-container\">\n",
              "    <div>\n",
              "<style scoped>\n",
              "    .dataframe tbody tr th:only-of-type {\n",
              "        vertical-align: middle;\n",
              "    }\n",
              "\n",
              "    .dataframe tbody tr th {\n",
              "        vertical-align: top;\n",
              "    }\n",
              "\n",
              "    .dataframe thead th {\n",
              "        text-align: right;\n",
              "    }\n",
              "</style>\n",
              "<table border=\"1\" class=\"dataframe\">\n",
              "  <thead>\n",
              "    <tr style=\"text-align: right;\">\n",
              "      <th></th>\n",
              "      <th>count</th>\n",
              "      <th>mean</th>\n",
              "      <th>std</th>\n",
              "      <th>min</th>\n",
              "      <th>25%</th>\n",
              "      <th>50%</th>\n",
              "      <th>75%</th>\n",
              "      <th>max</th>\n",
              "    </tr>\n",
              "  </thead>\n",
              "  <tbody>\n",
              "    <tr>\n",
              "      <th>IDADE</th>\n",
              "      <td>499940.0</td>\n",
              "      <td>2.059339e+01</td>\n",
              "      <td>6.465291</td>\n",
              "      <td>12.0</td>\n",
              "      <td>17.0</td>\n",
              "      <td>18.0</td>\n",
              "      <td>21.0</td>\n",
              "      <td>91.0</td>\n",
              "    </tr>\n",
              "    <tr>\n",
              "      <th>TP_ESTADO_CIVIL</th>\n",
              "      <td>499940.0</td>\n",
              "      <td>1.053206e+00</td>\n",
              "      <td>0.380866</td>\n",
              "      <td>0.0</td>\n",
              "      <td>1.0</td>\n",
              "      <td>1.0</td>\n",
              "      <td>1.0</td>\n",
              "      <td>4.0</td>\n",
              "    </tr>\n",
              "    <tr>\n",
              "      <th>TP_NACIONALIDADE</th>\n",
              "      <td>499940.0</td>\n",
              "      <td>1.029902e+00</td>\n",
              "      <td>0.230986</td>\n",
              "      <td>0.0</td>\n",
              "      <td>1.0</td>\n",
              "      <td>1.0</td>\n",
              "      <td>1.0</td>\n",
              "      <td>4.0</td>\n",
              "    </tr>\n",
              "    <tr>\n",
              "      <th>TP_ST_CONCLUSAO</th>\n",
              "      <td>499940.0</td>\n",
              "      <td>1.476085e+00</td>\n",
              "      <td>0.510351</td>\n",
              "      <td>1.0</td>\n",
              "      <td>1.0</td>\n",
              "      <td>1.0</td>\n",
              "      <td>2.0</td>\n",
              "      <td>4.0</td>\n",
              "    </tr>\n",
              "    <tr>\n",
              "      <th>CO_ESCOLA</th>\n",
              "      <td>176894.0</td>\n",
              "      <td>3.521138e+07</td>\n",
              "      <td>443039.197080</td>\n",
              "      <td>11003065.0</td>\n",
              "      <td>35016251.0</td>\n",
              "      <td>35044957.0</td>\n",
              "      <td>35290701.0</td>\n",
              "      <td>53001036.0</td>\n",
              "    </tr>\n",
              "    <tr>\n",
              "      <th>TP_PRESENCA_CN</th>\n",
              "      <td>499940.0</td>\n",
              "      <td>1.000000e+00</td>\n",
              "      <td>0.000000</td>\n",
              "      <td>1.0</td>\n",
              "      <td>1.0</td>\n",
              "      <td>1.0</td>\n",
              "      <td>1.0</td>\n",
              "      <td>1.0</td>\n",
              "    </tr>\n",
              "    <tr>\n",
              "      <th>TP_PRESENCA_CH</th>\n",
              "      <td>499940.0</td>\n",
              "      <td>1.000000e+00</td>\n",
              "      <td>0.000000</td>\n",
              "      <td>1.0</td>\n",
              "      <td>1.0</td>\n",
              "      <td>1.0</td>\n",
              "      <td>1.0</td>\n",
              "      <td>1.0</td>\n",
              "    </tr>\n",
              "    <tr>\n",
              "      <th>TP_PRESENCA_LC</th>\n",
              "      <td>499940.0</td>\n",
              "      <td>1.000000e+00</td>\n",
              "      <td>0.000000</td>\n",
              "      <td>1.0</td>\n",
              "      <td>1.0</td>\n",
              "      <td>1.0</td>\n",
              "      <td>1.0</td>\n",
              "      <td>1.0</td>\n",
              "    </tr>\n",
              "    <tr>\n",
              "      <th>TP_PRESENCA_MT</th>\n",
              "      <td>499940.0</td>\n",
              "      <td>1.000000e+00</td>\n",
              "      <td>0.000000</td>\n",
              "      <td>1.0</td>\n",
              "      <td>1.0</td>\n",
              "      <td>1.0</td>\n",
              "      <td>1.0</td>\n",
              "      <td>1.0</td>\n",
              "    </tr>\n",
              "    <tr>\n",
              "      <th>NOTA_CN</th>\n",
              "      <td>499940.0</td>\n",
              "      <td>4.499170e+02</td>\n",
              "      <td>152.982255</td>\n",
              "      <td>0.0</td>\n",
              "      <td>412.4</td>\n",
              "      <td>478.1</td>\n",
              "      <td>544.4</td>\n",
              "      <td>860.9</td>\n",
              "    </tr>\n",
              "    <tr>\n",
              "      <th>NOTA_CH</th>\n",
              "      <td>499940.0</td>\n",
              "      <td>4.822281e+02</td>\n",
              "      <td>161.122963</td>\n",
              "      <td>0.0</td>\n",
              "      <td>450.6</td>\n",
              "      <td>523.7</td>\n",
              "      <td>578.1</td>\n",
              "      <td>822.7</td>\n",
              "    </tr>\n",
              "    <tr>\n",
              "      <th>NOTA_LC</th>\n",
              "      <td>499940.0</td>\n",
              "      <td>4.919413e+02</td>\n",
              "      <td>156.247134</td>\n",
              "      <td>0.0</td>\n",
              "      <td>490.1</td>\n",
              "      <td>538.3</td>\n",
              "      <td>576.2</td>\n",
              "      <td>772.3</td>\n",
              "    </tr>\n",
              "    <tr>\n",
              "      <th>NOTA_MT</th>\n",
              "      <td>499940.0</td>\n",
              "      <td>4.975942e+02</td>\n",
              "      <td>183.465175</td>\n",
              "      <td>0.0</td>\n",
              "      <td>427.9</td>\n",
              "      <td>511.8</td>\n",
              "      <td>617.9</td>\n",
              "      <td>984.7</td>\n",
              "    </tr>\n",
              "    <tr>\n",
              "      <th>TP_STATUS_REDACAO</th>\n",
              "      <td>499940.0</td>\n",
              "      <td>1.072105e+00</td>\n",
              "      <td>0.584314</td>\n",
              "      <td>1.0</td>\n",
              "      <td>1.0</td>\n",
              "      <td>1.0</td>\n",
              "      <td>1.0</td>\n",
              "      <td>9.0</td>\n",
              "    </tr>\n",
              "    <tr>\n",
              "      <th>COMP1</th>\n",
              "      <td>499940.0</td>\n",
              "      <td>1.250008e+02</td>\n",
              "      <td>28.629513</td>\n",
              "      <td>0.0</td>\n",
              "      <td>120.0</td>\n",
              "      <td>120.0</td>\n",
              "      <td>140.0</td>\n",
              "      <td>200.0</td>\n",
              "    </tr>\n",
              "    <tr>\n",
              "      <th>COMP2</th>\n",
              "      <td>499940.0</td>\n",
              "      <td>1.270668e+02</td>\n",
              "      <td>39.846083</td>\n",
              "      <td>0.0</td>\n",
              "      <td>120.0</td>\n",
              "      <td>120.0</td>\n",
              "      <td>140.0</td>\n",
              "      <td>200.0</td>\n",
              "    </tr>\n",
              "    <tr>\n",
              "      <th>COMP3</th>\n",
              "      <td>499940.0</td>\n",
              "      <td>1.187607e+02</td>\n",
              "      <td>36.778882</td>\n",
              "      <td>0.0</td>\n",
              "      <td>100.0</td>\n",
              "      <td>120.0</td>\n",
              "      <td>140.0</td>\n",
              "      <td>200.0</td>\n",
              "    </tr>\n",
              "    <tr>\n",
              "      <th>COMP4</th>\n",
              "      <td>499940.0</td>\n",
              "      <td>1.249894e+02</td>\n",
              "      <td>33.879299</td>\n",
              "      <td>0.0</td>\n",
              "      <td>120.0</td>\n",
              "      <td>120.0</td>\n",
              "      <td>140.0</td>\n",
              "      <td>200.0</td>\n",
              "    </tr>\n",
              "    <tr>\n",
              "      <th>COMP5</th>\n",
              "      <td>499940.0</td>\n",
              "      <td>9.720070e+01</td>\n",
              "      <td>57.787427</td>\n",
              "      <td>0.0</td>\n",
              "      <td>60.0</td>\n",
              "      <td>100.0</td>\n",
              "      <td>140.0</td>\n",
              "      <td>200.0</td>\n",
              "    </tr>\n",
              "    <tr>\n",
              "      <th>NOTA_REDACAO</th>\n",
              "      <td>499940.0</td>\n",
              "      <td>5.930183e+02</td>\n",
              "      <td>170.536724</td>\n",
              "      <td>0.0</td>\n",
              "      <td>500.0</td>\n",
              "      <td>600.0</td>\n",
              "      <td>680.0</td>\n",
              "      <td>1000.0</td>\n",
              "    </tr>\n",
              "  </tbody>\n",
              "</table>\n",
              "</div>\n",
              "    <div class=\"colab-df-buttons\">\n",
              "\n",
              "  <div class=\"colab-df-container\">\n",
              "    <button class=\"colab-df-convert\" onclick=\"convertToInteractive('df-284bdf83-0522-4c52-9493-7a7a47948637')\"\n",
              "            title=\"Convert this dataframe to an interactive table.\"\n",
              "            style=\"display:none;\">\n",
              "\n",
              "  <svg xmlns=\"http://www.w3.org/2000/svg\" height=\"24px\" viewBox=\"0 -960 960 960\">\n",
              "    <path d=\"M120-120v-720h720v720H120Zm60-500h600v-160H180v160Zm220 220h160v-160H400v160Zm0 220h160v-160H400v160ZM180-400h160v-160H180v160Zm440 0h160v-160H620v160ZM180-180h160v-160H180v160Zm440 0h160v-160H620v160Z\"/>\n",
              "  </svg>\n",
              "    </button>\n",
              "\n",
              "  <style>\n",
              "    .colab-df-container {\n",
              "      display:flex;\n",
              "      gap: 12px;\n",
              "    }\n",
              "\n",
              "    .colab-df-convert {\n",
              "      background-color: #E8F0FE;\n",
              "      border: none;\n",
              "      border-radius: 50%;\n",
              "      cursor: pointer;\n",
              "      display: none;\n",
              "      fill: #1967D2;\n",
              "      height: 32px;\n",
              "      padding: 0 0 0 0;\n",
              "      width: 32px;\n",
              "    }\n",
              "\n",
              "    .colab-df-convert:hover {\n",
              "      background-color: #E2EBFA;\n",
              "      box-shadow: 0px 1px 2px rgba(60, 64, 67, 0.3), 0px 1px 3px 1px rgba(60, 64, 67, 0.15);\n",
              "      fill: #174EA6;\n",
              "    }\n",
              "\n",
              "    .colab-df-buttons div {\n",
              "      margin-bottom: 4px;\n",
              "    }\n",
              "\n",
              "    [theme=dark] .colab-df-convert {\n",
              "      background-color: #3B4455;\n",
              "      fill: #D2E3FC;\n",
              "    }\n",
              "\n",
              "    [theme=dark] .colab-df-convert:hover {\n",
              "      background-color: #434B5C;\n",
              "      box-shadow: 0px 1px 3px 1px rgba(0, 0, 0, 0.15);\n",
              "      filter: drop-shadow(0px 1px 2px rgba(0, 0, 0, 0.3));\n",
              "      fill: #FFFFFF;\n",
              "    }\n",
              "  </style>\n",
              "\n",
              "    <script>\n",
              "      const buttonEl =\n",
              "        document.querySelector('#df-284bdf83-0522-4c52-9493-7a7a47948637 button.colab-df-convert');\n",
              "      buttonEl.style.display =\n",
              "        google.colab.kernel.accessAllowed ? 'block' : 'none';\n",
              "\n",
              "      async function convertToInteractive(key) {\n",
              "        const element = document.querySelector('#df-284bdf83-0522-4c52-9493-7a7a47948637');\n",
              "        const dataTable =\n",
              "          await google.colab.kernel.invokeFunction('convertToInteractive',\n",
              "                                                    [key], {});\n",
              "        if (!dataTable) return;\n",
              "\n",
              "        const docLinkHtml = 'Like what you see? Visit the ' +\n",
              "          '<a target=\"_blank\" href=https://colab.research.google.com/notebooks/data_table.ipynb>data table notebook</a>'\n",
              "          + ' to learn more about interactive tables.';\n",
              "        element.innerHTML = '';\n",
              "        dataTable['output_type'] = 'display_data';\n",
              "        await google.colab.output.renderOutput(dataTable, element);\n",
              "        const docLink = document.createElement('div');\n",
              "        docLink.innerHTML = docLinkHtml;\n",
              "        element.appendChild(docLink);\n",
              "      }\n",
              "    </script>\n",
              "  </div>\n",
              "\n",
              "\n",
              "<div id=\"df-5d76fc55-bad0-4f71-ab76-cdf2cadb4165\">\n",
              "  <button class=\"colab-df-quickchart\" onclick=\"quickchart('df-5d76fc55-bad0-4f71-ab76-cdf2cadb4165')\"\n",
              "            title=\"Suggest charts\"\n",
              "            style=\"display:none;\">\n",
              "\n",
              "<svg xmlns=\"http://www.w3.org/2000/svg\" height=\"24px\"viewBox=\"0 0 24 24\"\n",
              "     width=\"24px\">\n",
              "    <g>\n",
              "        <path d=\"M19 3H5c-1.1 0-2 .9-2 2v14c0 1.1.9 2 2 2h14c1.1 0 2-.9 2-2V5c0-1.1-.9-2-2-2zM9 17H7v-7h2v7zm4 0h-2V7h2v10zm4 0h-2v-4h2v4z\"/>\n",
              "    </g>\n",
              "</svg>\n",
              "  </button>\n",
              "\n",
              "<style>\n",
              "  .colab-df-quickchart {\n",
              "      --bg-color: #E8F0FE;\n",
              "      --fill-color: #1967D2;\n",
              "      --hover-bg-color: #E2EBFA;\n",
              "      --hover-fill-color: #174EA6;\n",
              "      --disabled-fill-color: #AAA;\n",
              "      --disabled-bg-color: #DDD;\n",
              "  }\n",
              "\n",
              "  [theme=dark] .colab-df-quickchart {\n",
              "      --bg-color: #3B4455;\n",
              "      --fill-color: #D2E3FC;\n",
              "      --hover-bg-color: #434B5C;\n",
              "      --hover-fill-color: #FFFFFF;\n",
              "      --disabled-bg-color: #3B4455;\n",
              "      --disabled-fill-color: #666;\n",
              "  }\n",
              "\n",
              "  .colab-df-quickchart {\n",
              "    background-color: var(--bg-color);\n",
              "    border: none;\n",
              "    border-radius: 50%;\n",
              "    cursor: pointer;\n",
              "    display: none;\n",
              "    fill: var(--fill-color);\n",
              "    height: 32px;\n",
              "    padding: 0;\n",
              "    width: 32px;\n",
              "  }\n",
              "\n",
              "  .colab-df-quickchart:hover {\n",
              "    background-color: var(--hover-bg-color);\n",
              "    box-shadow: 0 1px 2px rgba(60, 64, 67, 0.3), 0 1px 3px 1px rgba(60, 64, 67, 0.15);\n",
              "    fill: var(--button-hover-fill-color);\n",
              "  }\n",
              "\n",
              "  .colab-df-quickchart-complete:disabled,\n",
              "  .colab-df-quickchart-complete:disabled:hover {\n",
              "    background-color: var(--disabled-bg-color);\n",
              "    fill: var(--disabled-fill-color);\n",
              "    box-shadow: none;\n",
              "  }\n",
              "\n",
              "  .colab-df-spinner {\n",
              "    border: 2px solid var(--fill-color);\n",
              "    border-color: transparent;\n",
              "    border-bottom-color: var(--fill-color);\n",
              "    animation:\n",
              "      spin 1s steps(1) infinite;\n",
              "  }\n",
              "\n",
              "  @keyframes spin {\n",
              "    0% {\n",
              "      border-color: transparent;\n",
              "      border-bottom-color: var(--fill-color);\n",
              "      border-left-color: var(--fill-color);\n",
              "    }\n",
              "    20% {\n",
              "      border-color: transparent;\n",
              "      border-left-color: var(--fill-color);\n",
              "      border-top-color: var(--fill-color);\n",
              "    }\n",
              "    30% {\n",
              "      border-color: transparent;\n",
              "      border-left-color: var(--fill-color);\n",
              "      border-top-color: var(--fill-color);\n",
              "      border-right-color: var(--fill-color);\n",
              "    }\n",
              "    40% {\n",
              "      border-color: transparent;\n",
              "      border-right-color: var(--fill-color);\n",
              "      border-top-color: var(--fill-color);\n",
              "    }\n",
              "    60% {\n",
              "      border-color: transparent;\n",
              "      border-right-color: var(--fill-color);\n",
              "    }\n",
              "    80% {\n",
              "      border-color: transparent;\n",
              "      border-right-color: var(--fill-color);\n",
              "      border-bottom-color: var(--fill-color);\n",
              "    }\n",
              "    90% {\n",
              "      border-color: transparent;\n",
              "      border-bottom-color: var(--fill-color);\n",
              "    }\n",
              "  }\n",
              "</style>\n",
              "\n",
              "  <script>\n",
              "    async function quickchart(key) {\n",
              "      const quickchartButtonEl =\n",
              "        document.querySelector('#' + key + ' button');\n",
              "      quickchartButtonEl.disabled = true;  // To prevent multiple clicks.\n",
              "      quickchartButtonEl.classList.add('colab-df-spinner');\n",
              "      try {\n",
              "        const charts = await google.colab.kernel.invokeFunction(\n",
              "            'suggestCharts', [key], {});\n",
              "      } catch (error) {\n",
              "        console.error('Error during call to suggestCharts:', error);\n",
              "      }\n",
              "      quickchartButtonEl.classList.remove('colab-df-spinner');\n",
              "      quickchartButtonEl.classList.add('colab-df-quickchart-complete');\n",
              "    }\n",
              "    (() => {\n",
              "      let quickchartButtonEl =\n",
              "        document.querySelector('#df-5d76fc55-bad0-4f71-ab76-cdf2cadb4165 button');\n",
              "      quickchartButtonEl.style.display =\n",
              "        google.colab.kernel.accessAllowed ? 'block' : 'none';\n",
              "    })();\n",
              "  </script>\n",
              "</div>\n",
              "\n",
              "    </div>\n",
              "  </div>\n"
            ],
            "application/vnd.google.colaboratory.intrinsic+json": {
              "type": "dataframe",
              "summary": "{\n  \"name\": \"enem_sp\",\n  \"rows\": 20,\n  \"fields\": [\n    {\n      \"column\": \"count\",\n      \"properties\": {\n        \"dtype\": \"number\",\n        \"std\": 72235.2815859397,\n        \"min\": 176894.0,\n        \"max\": 499940.0,\n        \"num_unique_values\": 2,\n        \"samples\": [\n          176894.0,\n          499940.0\n        ],\n        \"semantic_type\": \"\",\n        \"description\": \"\"\n      }\n    },\n    {\n      \"column\": \"mean\",\n      \"properties\": {\n        \"dtype\": \"number\",\n        \"std\": 7873466.602562892,\n        \"min\": 1.0,\n        \"max\": 35211378.173612446,\n        \"num_unique_values\": 17,\n        \"samples\": [\n          20.593387206464776,\n          1.053206384766172\n        ],\n        \"semantic_type\": \"\",\n        \"description\": \"\"\n      }\n    },\n    {\n      \"column\": \"std\",\n      \"properties\": {\n        \"dtype\": \"number\",\n        \"std\": 99054.48445284413,\n        \"min\": 0.0,\n        \"max\": 443039.1970798002,\n        \"num_unique_values\": 17,\n        \"samples\": [\n          6.465291136130305,\n          0.3808662725193448\n        ],\n        \"semantic_type\": \"\",\n        \"description\": \"\"\n      }\n    },\n    {\n      \"column\": \"min\",\n      \"properties\": {\n        \"dtype\": \"number\",\n        \"std\": 2460359.9182482753,\n        \"min\": 0.0,\n        \"max\": 11003065.0,\n        \"num_unique_values\": 4,\n        \"samples\": [\n          0.0,\n          11003065.0\n        ],\n        \"semantic_type\": \"\",\n        \"description\": \"\"\n      }\n    },\n    {\n      \"column\": \"25%\",\n      \"properties\": {\n        \"dtype\": \"number\",\n        \"std\": 7829838.49904666,\n        \"min\": 1.0,\n        \"max\": 35016251.0,\n        \"num_unique_values\": 11,\n        \"samples\": [\n          490.1,\n          17.0\n        ],\n        \"semantic_type\": \"\",\n        \"description\": \"\"\n      }\n    },\n    {\n      \"column\": \"50%\",\n      \"properties\": {\n        \"dtype\": \"number\",\n        \"std\": 7836252.273653655,\n        \"min\": 1.0,\n        \"max\": 35044957.0,\n        \"num_unique_values\": 10,\n        \"samples\": [\n          100.0,\n          1.0\n        ],\n        \"semantic_type\": \"\",\n        \"description\": \"\"\n      }\n    },\n    {\n      \"column\": \"75%\",\n      \"properties\": {\n        \"dtype\": \"number\",\n        \"std\": 7891196.787346907,\n        \"min\": 1.0,\n        \"max\": 35290701.0,\n        \"num_unique_values\": 10,\n        \"samples\": [\n          140.0,\n          1.0\n        ],\n        \"semantic_type\": \"\",\n        \"description\": \"\"\n      }\n    },\n    {\n      \"column\": \"max\",\n      \"properties\": {\n        \"dtype\": \"number\",\n        \"std\": 11851326.54869589,\n        \"min\": 1.0,\n        \"max\": 53001036.0,\n        \"num_unique_values\": 11,\n        \"samples\": [\n          822.7,\n          91.0\n        ],\n        \"semantic_type\": \"\",\n        \"description\": \"\"\n      }\n    }\n  ]\n}"
            }
          },
          "metadata": {},
          "execution_count": 20
        }
      ]
    },
    {
      "cell_type": "markdown",
      "source": [
        "# **Medidas de Posição**"
      ],
      "metadata": {
        "id": "oJkkqAU2EwQ5"
      }
    },
    {
      "cell_type": "code",
      "source": [
        "#minimo\n",
        "enem_sp.NOTA_MT.min()"
      ],
      "metadata": {
        "colab": {
          "base_uri": "https://localhost:8080/"
        },
        "id": "n9D64A0gE0xW",
        "outputId": "e7325afe-1534-4b8d-8aba-8e347c481be1"
      },
      "execution_count": 21,
      "outputs": [
        {
          "output_type": "execute_result",
          "data": {
            "text/plain": [
              "0.0"
            ]
          },
          "metadata": {},
          "execution_count": 21
        }
      ]
    },
    {
      "cell_type": "code",
      "source": [
        "enem_sp['NOTA_MT'].min()"
      ],
      "metadata": {
        "colab": {
          "base_uri": "https://localhost:8080/"
        },
        "id": "YeNa527bFWW8",
        "outputId": "688caf49-2c73-4005-9f23-4ceac765283b"
      },
      "execution_count": 22,
      "outputs": [
        {
          "output_type": "execute_result",
          "data": {
            "text/plain": [
              "0.0"
            ]
          },
          "metadata": {},
          "execution_count": 22
        }
      ]
    },
    {
      "cell_type": "code",
      "source": [
        "#max\n",
        "enem_sp['NOTA_MT'].max()"
      ],
      "metadata": {
        "colab": {
          "base_uri": "https://localhost:8080/"
        },
        "id": "lswj31nLFeaZ",
        "outputId": "5ec48194-a9fd-48a5-f9da-87f54bbe22dd"
      },
      "execution_count": 23,
      "outputs": [
        {
          "output_type": "execute_result",
          "data": {
            "text/plain": [
              "984.7"
            ]
          },
          "metadata": {},
          "execution_count": 23
        }
      ]
    },
    {
      "cell_type": "code",
      "source": [
        "#Primeiro Quartil\n",
        "enem_sp['NOTA_MT'].quantile(0.25)"
      ],
      "metadata": {
        "colab": {
          "base_uri": "https://localhost:8080/"
        },
        "id": "Mlk-sqR-FpEC",
        "outputId": "4a40d053-ab6b-4604-9396-ded4873cd136"
      },
      "execution_count": 24,
      "outputs": [
        {
          "output_type": "execute_result",
          "data": {
            "text/plain": [
              "427.9"
            ]
          },
          "metadata": {},
          "execution_count": 24
        }
      ]
    },
    {
      "cell_type": "code",
      "source": [
        "#segundo quartil\n",
        "enem_sp['NOTA_MT'].quantile(0.5)"
      ],
      "metadata": {
        "colab": {
          "base_uri": "https://localhost:8080/"
        },
        "id": "6SqnO7fuFvzs",
        "outputId": "be4832dc-3f4a-4713-87ce-dd77dd331d35"
      },
      "execution_count": 25,
      "outputs": [
        {
          "output_type": "execute_result",
          "data": {
            "text/plain": [
              "511.8"
            ]
          },
          "metadata": {},
          "execution_count": 25
        }
      ]
    },
    {
      "cell_type": "code",
      "source": [
        "#terceiro quartil\n",
        "enem_sp['NOTA_MT'].quantile(0.75)"
      ],
      "metadata": {
        "colab": {
          "base_uri": "https://localhost:8080/"
        },
        "id": "PN-4VkL6F2ji",
        "outputId": "fb26b06c-447b-4664-a33e-98313f4a20f5"
      },
      "execution_count": 26,
      "outputs": [
        {
          "output_type": "execute_result",
          "data": {
            "text/plain": [
              "617.9"
            ]
          },
          "metadata": {},
          "execution_count": 26
        }
      ]
    },
    {
      "cell_type": "code",
      "source": [
        "enem_sp['NOTA_MT'].quantile(0.75)"
      ],
      "metadata": {
        "colab": {
          "base_uri": "https://localhost:8080/"
        },
        "id": "7l8QH013F7yf",
        "outputId": "331d9eb3-3a46-4b30-c119-2aa76d469818"
      },
      "execution_count": 27,
      "outputs": [
        {
          "output_type": "execute_result",
          "data": {
            "text/plain": [
              "617.9"
            ]
          },
          "metadata": {},
          "execution_count": 27
        }
      ]
    },
    {
      "cell_type": "code",
      "source": [
        "enem_sp['NOTA_MT'].describe().T"
      ],
      "metadata": {
        "colab": {
          "base_uri": "https://localhost:8080/"
        },
        "id": "BwowIR5FF-IP",
        "outputId": "e6a62d24-67ba-4f34-c3b5-eebbce94ab95"
      },
      "execution_count": 28,
      "outputs": [
        {
          "output_type": "execute_result",
          "data": {
            "text/plain": [
              "count    499940.000000\n",
              "mean        497.594240\n",
              "std         183.465175\n",
              "min           0.000000\n",
              "25%         427.900000\n",
              "50%         511.800000\n",
              "75%         617.900000\n",
              "max         984.700000\n",
              "Name: NOTA_MT, dtype: float64"
            ]
          },
          "metadata": {},
          "execution_count": 28
        }
      ]
    }
  ]
}