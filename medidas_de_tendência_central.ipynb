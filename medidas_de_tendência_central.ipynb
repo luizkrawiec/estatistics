{
  "nbformat": 4,
  "nbformat_minor": 0,
  "metadata": {
    "colab": {
      "provenance": [],
      "authorship_tag": "ABX9TyMGoU9u0Y3Qce1rL3zehZT3",
      "include_colab_link": true
    },
    "kernelspec": {
      "name": "python3",
      "display_name": "Python 3"
    },
    "language_info": {
      "name": "python"
    }
  },
  "cells": [
    {
      "cell_type": "markdown",
      "metadata": {
        "id": "view-in-github",
        "colab_type": "text"
      },
      "source": [
        "<a href=\"https://colab.research.google.com/github/luizkrawiec/estatistics/blob/main/medidas_de_tend%C3%AAncia_central.ipynb\" target=\"_parent\"><img src=\"https://colab.research.google.com/assets/colab-badge.svg\" alt=\"Open In Colab\"/></a>"
      ]
    },
    {
      "cell_type": "markdown",
      "source": [
        "# **Medidas de tendência central**"
      ],
      "metadata": {
        "id": "MdbuPjRI15mp"
      }
    },
    {
      "cell_type": "code",
      "execution_count": 1,
      "metadata": {
        "id": "4wKx8bzk0g_n"
      },
      "outputs": [],
      "source": [
        "import pandas as pd\n",
        "import numpy as np"
      ]
    },
    {
      "cell_type": "code",
      "source": [
        "enem_sp = pd.read_csv('/content/enem_2019_tratado.csv', sep=',', encoding='iso-8859-1')"
      ],
      "metadata": {
        "id": "3Z1gpzNU2I-X"
      },
      "execution_count": 3,
      "outputs": []
    },
    {
      "cell_type": "markdown",
      "source": [
        "# **Média**"
      ],
      "metadata": {
        "id": "EXnmJYC02xAH"
      }
    },
    {
      "cell_type": "code",
      "source": [
        "enem_sp['IDADE'].mean()"
      ],
      "metadata": {
        "colab": {
          "base_uri": "https://localhost:8080/"
        },
        "id": "jbAnRT8i2vti",
        "outputId": "ff303882-be89-474a-c4f1-ec87a8767a4b"
      },
      "execution_count": 5,
      "outputs": [
        {
          "output_type": "execute_result",
          "data": {
            "text/plain": [
              "20.593387206464776"
            ]
          },
          "metadata": {},
          "execution_count": 5
        }
      ]
    },
    {
      "cell_type": "code",
      "source": [
        "enem_sp.IDADE.mean()"
      ],
      "metadata": {
        "colab": {
          "base_uri": "https://localhost:8080/"
        },
        "id": "MVqdXhPm25aB",
        "outputId": "5153f47e-a922-4971-8bde-ee7b7da59a70"
      },
      "execution_count": 6,
      "outputs": [
        {
          "output_type": "execute_result",
          "data": {
            "text/plain": [
              "20.593387206464776"
            ]
          },
          "metadata": {},
          "execution_count": 6
        }
      ]
    },
    {
      "cell_type": "code",
      "source": [
        "round(enem_sp.IDADE.mean(), 2)"
      ],
      "metadata": {
        "colab": {
          "base_uri": "https://localhost:8080/"
        },
        "id": "e-ddCu0R2909",
        "outputId": "866c7342-b1e8-4e11-e2d8-032e9324b9d3"
      },
      "execution_count": 8,
      "outputs": [
        {
          "output_type": "execute_result",
          "data": {
            "text/plain": [
              "20.59"
            ]
          },
          "metadata": {},
          "execution_count": 8
        }
      ]
    },
    {
      "cell_type": "code",
      "source": [
        "enem_sp.NOTA_REDACAO.mean()"
      ],
      "metadata": {
        "colab": {
          "base_uri": "https://localhost:8080/"
        },
        "id": "KPXXGSw_3gTA",
        "outputId": "ddf1f6d0-b390-4a74-a6c1-97c8f7dc4aec"
      },
      "execution_count": 9,
      "outputs": [
        {
          "output_type": "execute_result",
          "data": {
            "text/plain": [
              "593.0183221986639"
            ]
          },
          "metadata": {},
          "execution_count": 9
        }
      ]
    },
    {
      "cell_type": "code",
      "source": [
        "enem_sp['NOTA_MT'].mean()"
      ],
      "metadata": {
        "colab": {
          "base_uri": "https://localhost:8080/"
        },
        "id": "M931DJWw3mme",
        "outputId": "bd9abc32-87fd-4862-bd9e-5f90c0fd127d"
      },
      "execution_count": 10,
      "outputs": [
        {
          "output_type": "execute_result",
          "data": {
            "text/plain": [
              "497.5942403088371"
            ]
          },
          "metadata": {},
          "execution_count": 10
        }
      ]
    },
    {
      "cell_type": "code",
      "source": [
        "enem_sp.NOTA_CN.mean()"
      ],
      "metadata": {
        "colab": {
          "base_uri": "https://localhost:8080/"
        },
        "id": "N3_xkiNY3rU6",
        "outputId": "64f03819-1ea3-4c5e-d190-6cebebd496dc"
      },
      "execution_count": 11,
      "outputs": [
        {
          "output_type": "execute_result",
          "data": {
            "text/plain": [
              "449.91700044005285"
            ]
          },
          "metadata": {},
          "execution_count": 11
        }
      ]
    },
    {
      "cell_type": "code",
      "source": [
        "enem_sp.NOTA_CH.mean()"
      ],
      "metadata": {
        "colab": {
          "base_uri": "https://localhost:8080/"
        },
        "id": "iy3DZ1T43xfJ",
        "outputId": "fbc01f73-3ebe-4f1c-ab8d-3858cd949984"
      },
      "execution_count": 12,
      "outputs": [
        {
          "output_type": "execute_result",
          "data": {
            "text/plain": [
              "482.228053966476"
            ]
          },
          "metadata": {},
          "execution_count": 12
        }
      ]
    },
    {
      "cell_type": "code",
      "source": [
        "enem_sp.NOTA_LC.mean()"
      ],
      "metadata": {
        "colab": {
          "base_uri": "https://localhost:8080/"
        },
        "id": "VA6hGkRA4EVw",
        "outputId": "0c83781f-711b-46f8-bd5c-3ebbf8648a2a"
      },
      "execution_count": 13,
      "outputs": [
        {
          "output_type": "execute_result",
          "data": {
            "text/plain": [
              "491.94126215145815"
            ]
          },
          "metadata": {},
          "execution_count": 13
        }
      ]
    },
    {
      "cell_type": "markdown",
      "source": [
        "# **Mediana**"
      ],
      "metadata": {
        "id": "XPvYfXgY4Lgw"
      }
    },
    {
      "cell_type": "code",
      "source": [
        "enem_sp['IDADE'].median()"
      ],
      "metadata": {
        "colab": {
          "base_uri": "https://localhost:8080/"
        },
        "id": "DY0s6ky_4Wl1",
        "outputId": "4c2c808b-0856-489d-aa5b-4ad9377ac5bf"
      },
      "execution_count": 14,
      "outputs": [
        {
          "output_type": "execute_result",
          "data": {
            "text/plain": [
              "18.0"
            ]
          },
          "metadata": {},
          "execution_count": 14
        }
      ]
    },
    {
      "cell_type": "code",
      "source": [
        "enem_sp.NOTA_REDACAO.median()"
      ],
      "metadata": {
        "colab": {
          "base_uri": "https://localhost:8080/"
        },
        "id": "n6gyfUiP4c8F",
        "outputId": "95881e0c-0232-4bdf-ac3e-b18959854bde"
      },
      "execution_count": 15,
      "outputs": [
        {
          "output_type": "execute_result",
          "data": {
            "text/plain": [
              "600.0"
            ]
          },
          "metadata": {},
          "execution_count": 15
        }
      ]
    },
    {
      "cell_type": "code",
      "source": [
        "enem_sp.NOTA_MT.median()"
      ],
      "metadata": {
        "colab": {
          "base_uri": "https://localhost:8080/"
        },
        "id": "mNqSFFFf4j5h",
        "outputId": "349706e3-5cc4-479d-b9e3-64d4cf23f222"
      },
      "execution_count": 16,
      "outputs": [
        {
          "output_type": "execute_result",
          "data": {
            "text/plain": [
              "511.8"
            ]
          },
          "metadata": {},
          "execution_count": 16
        }
      ]
    },
    {
      "cell_type": "code",
      "source": [
        "enem_sp.NOTA_CN.median()"
      ],
      "metadata": {
        "colab": {
          "base_uri": "https://localhost:8080/"
        },
        "id": "hSAxJ6ht4oQ8",
        "outputId": "b701417c-025a-47ca-a391-2b0ee46f7221"
      },
      "execution_count": 17,
      "outputs": [
        {
          "output_type": "execute_result",
          "data": {
            "text/plain": [
              "478.1"
            ]
          },
          "metadata": {},
          "execution_count": 17
        }
      ]
    },
    {
      "cell_type": "code",
      "source": [
        "enem_sp.NOTA_CH.median()"
      ],
      "metadata": {
        "colab": {
          "base_uri": "https://localhost:8080/"
        },
        "id": "RoZFucf94rAB",
        "outputId": "afdeedc1-1571-4723-bb4b-fb4592c526b0"
      },
      "execution_count": 18,
      "outputs": [
        {
          "output_type": "execute_result",
          "data": {
            "text/plain": [
              "523.7"
            ]
          },
          "metadata": {},
          "execution_count": 18
        }
      ]
    },
    {
      "cell_type": "code",
      "source": [
        "enem_sp['NOTA_LC'].median()"
      ],
      "metadata": {
        "colab": {
          "base_uri": "https://localhost:8080/"
        },
        "id": "kZd3HPYT47rZ",
        "outputId": "d11cae2b-5a07-4966-9db7-bbd7b9a8c093"
      },
      "execution_count": 19,
      "outputs": [
        {
          "output_type": "execute_result",
          "data": {
            "text/plain": [
              "538.3"
            ]
          },
          "metadata": {},
          "execution_count": 19
        }
      ]
    },
    {
      "cell_type": "code",
      "source": [
        "enem_sp.describe()"
      ],
      "metadata": {
        "colab": {
          "base_uri": "https://localhost:8080/",
          "height": 320
        },
        "id": "_Lk-bUTk5Ao4",
        "outputId": "e5fd72c2-16e1-4969-8fca-6580d9202572"
      },
      "execution_count": 20,
      "outputs": [
        {
          "output_type": "execute_result",
          "data": {
            "text/plain": [
              "               IDADE  TP_ESTADO_CIVIL  TP_NACIONALIDADE  TP_ST_CONCLUSAO  \\\n",
              "count  499940.000000    499940.000000     499940.000000    499940.000000   \n",
              "mean       20.593387         1.053206          1.029902         1.476085   \n",
              "std         6.465291         0.380866          0.230986         0.510351   \n",
              "min        12.000000         0.000000          0.000000         1.000000   \n",
              "25%        17.000000         1.000000          1.000000         1.000000   \n",
              "50%        18.000000         1.000000          1.000000         1.000000   \n",
              "75%        21.000000         1.000000          1.000000         2.000000   \n",
              "max        91.000000         4.000000          4.000000         4.000000   \n",
              "\n",
              "          CO_ESCOLA  TP_PRESENCA_CN  TP_PRESENCA_CH  TP_PRESENCA_LC  \\\n",
              "count  1.768940e+05        499940.0        499940.0        499940.0   \n",
              "mean   3.521138e+07             1.0             1.0             1.0   \n",
              "std    4.430392e+05             0.0             0.0             0.0   \n",
              "min    1.100306e+07             1.0             1.0             1.0   \n",
              "25%    3.501625e+07             1.0             1.0             1.0   \n",
              "50%    3.504496e+07             1.0             1.0             1.0   \n",
              "75%    3.529070e+07             1.0             1.0             1.0   \n",
              "max    5.300104e+07             1.0             1.0             1.0   \n",
              "\n",
              "       TP_PRESENCA_MT        NOTA_CN        NOTA_CH        NOTA_LC  \\\n",
              "count        499940.0  499940.000000  499940.000000  499940.000000   \n",
              "mean              1.0     449.917000     482.228054     491.941262   \n",
              "std               0.0     152.982255     161.122963     156.247134   \n",
              "min               1.0       0.000000       0.000000       0.000000   \n",
              "25%               1.0     412.400000     450.600000     490.100000   \n",
              "50%               1.0     478.100000     523.700000     538.300000   \n",
              "75%               1.0     544.400000     578.100000     576.200000   \n",
              "max               1.0     860.900000     822.700000     772.300000   \n",
              "\n",
              "             NOTA_MT  TP_STATUS_REDACAO          COMP1          COMP2  \\\n",
              "count  499940.000000      499940.000000  499940.000000  499940.000000   \n",
              "mean      497.594240           1.072105     125.000760     127.066808   \n",
              "std       183.465175           0.584314      28.629513      39.846083   \n",
              "min         0.000000           1.000000       0.000000       0.000000   \n",
              "25%       427.900000           1.000000     120.000000     120.000000   \n",
              "50%       511.800000           1.000000     120.000000     120.000000   \n",
              "75%       617.900000           1.000000     140.000000     140.000000   \n",
              "max       984.700000           9.000000     200.000000     200.000000   \n",
              "\n",
              "               COMP3          COMP4          COMP5   NOTA_REDACAO  \n",
              "count  499940.000000  499940.000000  499940.000000  499940.000000  \n",
              "mean      118.760691     124.989359      97.200704     593.018322  \n",
              "std        36.778882      33.879299      57.787427     170.536724  \n",
              "min         0.000000       0.000000       0.000000       0.000000  \n",
              "25%       100.000000     120.000000      60.000000     500.000000  \n",
              "50%       120.000000     120.000000     100.000000     600.000000  \n",
              "75%       140.000000     140.000000     140.000000     680.000000  \n",
              "max       200.000000     200.000000     200.000000    1000.000000  "
            ],
            "text/html": [
              "\n",
              "  <div id=\"df-20a4d36b-2acf-43c2-b47d-c48b9f9d95cd\" class=\"colab-df-container\">\n",
              "    <div>\n",
              "<style scoped>\n",
              "    .dataframe tbody tr th:only-of-type {\n",
              "        vertical-align: middle;\n",
              "    }\n",
              "\n",
              "    .dataframe tbody tr th {\n",
              "        vertical-align: top;\n",
              "    }\n",
              "\n",
              "    .dataframe thead th {\n",
              "        text-align: right;\n",
              "    }\n",
              "</style>\n",
              "<table border=\"1\" class=\"dataframe\">\n",
              "  <thead>\n",
              "    <tr style=\"text-align: right;\">\n",
              "      <th></th>\n",
              "      <th>IDADE</th>\n",
              "      <th>TP_ESTADO_CIVIL</th>\n",
              "      <th>TP_NACIONALIDADE</th>\n",
              "      <th>TP_ST_CONCLUSAO</th>\n",
              "      <th>CO_ESCOLA</th>\n",
              "      <th>TP_PRESENCA_CN</th>\n",
              "      <th>TP_PRESENCA_CH</th>\n",
              "      <th>TP_PRESENCA_LC</th>\n",
              "      <th>TP_PRESENCA_MT</th>\n",
              "      <th>NOTA_CN</th>\n",
              "      <th>NOTA_CH</th>\n",
              "      <th>NOTA_LC</th>\n",
              "      <th>NOTA_MT</th>\n",
              "      <th>TP_STATUS_REDACAO</th>\n",
              "      <th>COMP1</th>\n",
              "      <th>COMP2</th>\n",
              "      <th>COMP3</th>\n",
              "      <th>COMP4</th>\n",
              "      <th>COMP5</th>\n",
              "      <th>NOTA_REDACAO</th>\n",
              "    </tr>\n",
              "  </thead>\n",
              "  <tbody>\n",
              "    <tr>\n",
              "      <th>count</th>\n",
              "      <td>499940.000000</td>\n",
              "      <td>499940.000000</td>\n",
              "      <td>499940.000000</td>\n",
              "      <td>499940.000000</td>\n",
              "      <td>1.768940e+05</td>\n",
              "      <td>499940.0</td>\n",
              "      <td>499940.0</td>\n",
              "      <td>499940.0</td>\n",
              "      <td>499940.0</td>\n",
              "      <td>499940.000000</td>\n",
              "      <td>499940.000000</td>\n",
              "      <td>499940.000000</td>\n",
              "      <td>499940.000000</td>\n",
              "      <td>499940.000000</td>\n",
              "      <td>499940.000000</td>\n",
              "      <td>499940.000000</td>\n",
              "      <td>499940.000000</td>\n",
              "      <td>499940.000000</td>\n",
              "      <td>499940.000000</td>\n",
              "      <td>499940.000000</td>\n",
              "    </tr>\n",
              "    <tr>\n",
              "      <th>mean</th>\n",
              "      <td>20.593387</td>\n",
              "      <td>1.053206</td>\n",
              "      <td>1.029902</td>\n",
              "      <td>1.476085</td>\n",
              "      <td>3.521138e+07</td>\n",
              "      <td>1.0</td>\n",
              "      <td>1.0</td>\n",
              "      <td>1.0</td>\n",
              "      <td>1.0</td>\n",
              "      <td>449.917000</td>\n",
              "      <td>482.228054</td>\n",
              "      <td>491.941262</td>\n",
              "      <td>497.594240</td>\n",
              "      <td>1.072105</td>\n",
              "      <td>125.000760</td>\n",
              "      <td>127.066808</td>\n",
              "      <td>118.760691</td>\n",
              "      <td>124.989359</td>\n",
              "      <td>97.200704</td>\n",
              "      <td>593.018322</td>\n",
              "    </tr>\n",
              "    <tr>\n",
              "      <th>std</th>\n",
              "      <td>6.465291</td>\n",
              "      <td>0.380866</td>\n",
              "      <td>0.230986</td>\n",
              "      <td>0.510351</td>\n",
              "      <td>4.430392e+05</td>\n",
              "      <td>0.0</td>\n",
              "      <td>0.0</td>\n",
              "      <td>0.0</td>\n",
              "      <td>0.0</td>\n",
              "      <td>152.982255</td>\n",
              "      <td>161.122963</td>\n",
              "      <td>156.247134</td>\n",
              "      <td>183.465175</td>\n",
              "      <td>0.584314</td>\n",
              "      <td>28.629513</td>\n",
              "      <td>39.846083</td>\n",
              "      <td>36.778882</td>\n",
              "      <td>33.879299</td>\n",
              "      <td>57.787427</td>\n",
              "      <td>170.536724</td>\n",
              "    </tr>\n",
              "    <tr>\n",
              "      <th>min</th>\n",
              "      <td>12.000000</td>\n",
              "      <td>0.000000</td>\n",
              "      <td>0.000000</td>\n",
              "      <td>1.000000</td>\n",
              "      <td>1.100306e+07</td>\n",
              "      <td>1.0</td>\n",
              "      <td>1.0</td>\n",
              "      <td>1.0</td>\n",
              "      <td>1.0</td>\n",
              "      <td>0.000000</td>\n",
              "      <td>0.000000</td>\n",
              "      <td>0.000000</td>\n",
              "      <td>0.000000</td>\n",
              "      <td>1.000000</td>\n",
              "      <td>0.000000</td>\n",
              "      <td>0.000000</td>\n",
              "      <td>0.000000</td>\n",
              "      <td>0.000000</td>\n",
              "      <td>0.000000</td>\n",
              "      <td>0.000000</td>\n",
              "    </tr>\n",
              "    <tr>\n",
              "      <th>25%</th>\n",
              "      <td>17.000000</td>\n",
              "      <td>1.000000</td>\n",
              "      <td>1.000000</td>\n",
              "      <td>1.000000</td>\n",
              "      <td>3.501625e+07</td>\n",
              "      <td>1.0</td>\n",
              "      <td>1.0</td>\n",
              "      <td>1.0</td>\n",
              "      <td>1.0</td>\n",
              "      <td>412.400000</td>\n",
              "      <td>450.600000</td>\n",
              "      <td>490.100000</td>\n",
              "      <td>427.900000</td>\n",
              "      <td>1.000000</td>\n",
              "      <td>120.000000</td>\n",
              "      <td>120.000000</td>\n",
              "      <td>100.000000</td>\n",
              "      <td>120.000000</td>\n",
              "      <td>60.000000</td>\n",
              "      <td>500.000000</td>\n",
              "    </tr>\n",
              "    <tr>\n",
              "      <th>50%</th>\n",
              "      <td>18.000000</td>\n",
              "      <td>1.000000</td>\n",
              "      <td>1.000000</td>\n",
              "      <td>1.000000</td>\n",
              "      <td>3.504496e+07</td>\n",
              "      <td>1.0</td>\n",
              "      <td>1.0</td>\n",
              "      <td>1.0</td>\n",
              "      <td>1.0</td>\n",
              "      <td>478.100000</td>\n",
              "      <td>523.700000</td>\n",
              "      <td>538.300000</td>\n",
              "      <td>511.800000</td>\n",
              "      <td>1.000000</td>\n",
              "      <td>120.000000</td>\n",
              "      <td>120.000000</td>\n",
              "      <td>120.000000</td>\n",
              "      <td>120.000000</td>\n",
              "      <td>100.000000</td>\n",
              "      <td>600.000000</td>\n",
              "    </tr>\n",
              "    <tr>\n",
              "      <th>75%</th>\n",
              "      <td>21.000000</td>\n",
              "      <td>1.000000</td>\n",
              "      <td>1.000000</td>\n",
              "      <td>2.000000</td>\n",
              "      <td>3.529070e+07</td>\n",
              "      <td>1.0</td>\n",
              "      <td>1.0</td>\n",
              "      <td>1.0</td>\n",
              "      <td>1.0</td>\n",
              "      <td>544.400000</td>\n",
              "      <td>578.100000</td>\n",
              "      <td>576.200000</td>\n",
              "      <td>617.900000</td>\n",
              "      <td>1.000000</td>\n",
              "      <td>140.000000</td>\n",
              "      <td>140.000000</td>\n",
              "      <td>140.000000</td>\n",
              "      <td>140.000000</td>\n",
              "      <td>140.000000</td>\n",
              "      <td>680.000000</td>\n",
              "    </tr>\n",
              "    <tr>\n",
              "      <th>max</th>\n",
              "      <td>91.000000</td>\n",
              "      <td>4.000000</td>\n",
              "      <td>4.000000</td>\n",
              "      <td>4.000000</td>\n",
              "      <td>5.300104e+07</td>\n",
              "      <td>1.0</td>\n",
              "      <td>1.0</td>\n",
              "      <td>1.0</td>\n",
              "      <td>1.0</td>\n",
              "      <td>860.900000</td>\n",
              "      <td>822.700000</td>\n",
              "      <td>772.300000</td>\n",
              "      <td>984.700000</td>\n",
              "      <td>9.000000</td>\n",
              "      <td>200.000000</td>\n",
              "      <td>200.000000</td>\n",
              "      <td>200.000000</td>\n",
              "      <td>200.000000</td>\n",
              "      <td>200.000000</td>\n",
              "      <td>1000.000000</td>\n",
              "    </tr>\n",
              "  </tbody>\n",
              "</table>\n",
              "</div>\n",
              "    <div class=\"colab-df-buttons\">\n",
              "\n",
              "  <div class=\"colab-df-container\">\n",
              "    <button class=\"colab-df-convert\" onclick=\"convertToInteractive('df-20a4d36b-2acf-43c2-b47d-c48b9f9d95cd')\"\n",
              "            title=\"Convert this dataframe to an interactive table.\"\n",
              "            style=\"display:none;\">\n",
              "\n",
              "  <svg xmlns=\"http://www.w3.org/2000/svg\" height=\"24px\" viewBox=\"0 -960 960 960\">\n",
              "    <path d=\"M120-120v-720h720v720H120Zm60-500h600v-160H180v160Zm220 220h160v-160H400v160Zm0 220h160v-160H400v160ZM180-400h160v-160H180v160Zm440 0h160v-160H620v160ZM180-180h160v-160H180v160Zm440 0h160v-160H620v160Z\"/>\n",
              "  </svg>\n",
              "    </button>\n",
              "\n",
              "  <style>\n",
              "    .colab-df-container {\n",
              "      display:flex;\n",
              "      gap: 12px;\n",
              "    }\n",
              "\n",
              "    .colab-df-convert {\n",
              "      background-color: #E8F0FE;\n",
              "      border: none;\n",
              "      border-radius: 50%;\n",
              "      cursor: pointer;\n",
              "      display: none;\n",
              "      fill: #1967D2;\n",
              "      height: 32px;\n",
              "      padding: 0 0 0 0;\n",
              "      width: 32px;\n",
              "    }\n",
              "\n",
              "    .colab-df-convert:hover {\n",
              "      background-color: #E2EBFA;\n",
              "      box-shadow: 0px 1px 2px rgba(60, 64, 67, 0.3), 0px 1px 3px 1px rgba(60, 64, 67, 0.15);\n",
              "      fill: #174EA6;\n",
              "    }\n",
              "\n",
              "    .colab-df-buttons div {\n",
              "      margin-bottom: 4px;\n",
              "    }\n",
              "\n",
              "    [theme=dark] .colab-df-convert {\n",
              "      background-color: #3B4455;\n",
              "      fill: #D2E3FC;\n",
              "    }\n",
              "\n",
              "    [theme=dark] .colab-df-convert:hover {\n",
              "      background-color: #434B5C;\n",
              "      box-shadow: 0px 1px 3px 1px rgba(0, 0, 0, 0.15);\n",
              "      filter: drop-shadow(0px 1px 2px rgba(0, 0, 0, 0.3));\n",
              "      fill: #FFFFFF;\n",
              "    }\n",
              "  </style>\n",
              "\n",
              "    <script>\n",
              "      const buttonEl =\n",
              "        document.querySelector('#df-20a4d36b-2acf-43c2-b47d-c48b9f9d95cd button.colab-df-convert');\n",
              "      buttonEl.style.display =\n",
              "        google.colab.kernel.accessAllowed ? 'block' : 'none';\n",
              "\n",
              "      async function convertToInteractive(key) {\n",
              "        const element = document.querySelector('#df-20a4d36b-2acf-43c2-b47d-c48b9f9d95cd');\n",
              "        const dataTable =\n",
              "          await google.colab.kernel.invokeFunction('convertToInteractive',\n",
              "                                                    [key], {});\n",
              "        if (!dataTable) return;\n",
              "\n",
              "        const docLinkHtml = 'Like what you see? Visit the ' +\n",
              "          '<a target=\"_blank\" href=https://colab.research.google.com/notebooks/data_table.ipynb>data table notebook</a>'\n",
              "          + ' to learn more about interactive tables.';\n",
              "        element.innerHTML = '';\n",
              "        dataTable['output_type'] = 'display_data';\n",
              "        await google.colab.output.renderOutput(dataTable, element);\n",
              "        const docLink = document.createElement('div');\n",
              "        docLink.innerHTML = docLinkHtml;\n",
              "        element.appendChild(docLink);\n",
              "      }\n",
              "    </script>\n",
              "  </div>\n",
              "\n",
              "\n",
              "<div id=\"df-33d7290d-5ee7-4d15-a15a-339f5a96cf6b\">\n",
              "  <button class=\"colab-df-quickchart\" onclick=\"quickchart('df-33d7290d-5ee7-4d15-a15a-339f5a96cf6b')\"\n",
              "            title=\"Suggest charts\"\n",
              "            style=\"display:none;\">\n",
              "\n",
              "<svg xmlns=\"http://www.w3.org/2000/svg\" height=\"24px\"viewBox=\"0 0 24 24\"\n",
              "     width=\"24px\">\n",
              "    <g>\n",
              "        <path d=\"M19 3H5c-1.1 0-2 .9-2 2v14c0 1.1.9 2 2 2h14c1.1 0 2-.9 2-2V5c0-1.1-.9-2-2-2zM9 17H7v-7h2v7zm4 0h-2V7h2v10zm4 0h-2v-4h2v4z\"/>\n",
              "    </g>\n",
              "</svg>\n",
              "  </button>\n",
              "\n",
              "<style>\n",
              "  .colab-df-quickchart {\n",
              "      --bg-color: #E8F0FE;\n",
              "      --fill-color: #1967D2;\n",
              "      --hover-bg-color: #E2EBFA;\n",
              "      --hover-fill-color: #174EA6;\n",
              "      --disabled-fill-color: #AAA;\n",
              "      --disabled-bg-color: #DDD;\n",
              "  }\n",
              "\n",
              "  [theme=dark] .colab-df-quickchart {\n",
              "      --bg-color: #3B4455;\n",
              "      --fill-color: #D2E3FC;\n",
              "      --hover-bg-color: #434B5C;\n",
              "      --hover-fill-color: #FFFFFF;\n",
              "      --disabled-bg-color: #3B4455;\n",
              "      --disabled-fill-color: #666;\n",
              "  }\n",
              "\n",
              "  .colab-df-quickchart {\n",
              "    background-color: var(--bg-color);\n",
              "    border: none;\n",
              "    border-radius: 50%;\n",
              "    cursor: pointer;\n",
              "    display: none;\n",
              "    fill: var(--fill-color);\n",
              "    height: 32px;\n",
              "    padding: 0;\n",
              "    width: 32px;\n",
              "  }\n",
              "\n",
              "  .colab-df-quickchart:hover {\n",
              "    background-color: var(--hover-bg-color);\n",
              "    box-shadow: 0 1px 2px rgba(60, 64, 67, 0.3), 0 1px 3px 1px rgba(60, 64, 67, 0.15);\n",
              "    fill: var(--button-hover-fill-color);\n",
              "  }\n",
              "\n",
              "  .colab-df-quickchart-complete:disabled,\n",
              "  .colab-df-quickchart-complete:disabled:hover {\n",
              "    background-color: var(--disabled-bg-color);\n",
              "    fill: var(--disabled-fill-color);\n",
              "    box-shadow: none;\n",
              "  }\n",
              "\n",
              "  .colab-df-spinner {\n",
              "    border: 2px solid var(--fill-color);\n",
              "    border-color: transparent;\n",
              "    border-bottom-color: var(--fill-color);\n",
              "    animation:\n",
              "      spin 1s steps(1) infinite;\n",
              "  }\n",
              "\n",
              "  @keyframes spin {\n",
              "    0% {\n",
              "      border-color: transparent;\n",
              "      border-bottom-color: var(--fill-color);\n",
              "      border-left-color: var(--fill-color);\n",
              "    }\n",
              "    20% {\n",
              "      border-color: transparent;\n",
              "      border-left-color: var(--fill-color);\n",
              "      border-top-color: var(--fill-color);\n",
              "    }\n",
              "    30% {\n",
              "      border-color: transparent;\n",
              "      border-left-color: var(--fill-color);\n",
              "      border-top-color: var(--fill-color);\n",
              "      border-right-color: var(--fill-color);\n",
              "    }\n",
              "    40% {\n",
              "      border-color: transparent;\n",
              "      border-right-color: var(--fill-color);\n",
              "      border-top-color: var(--fill-color);\n",
              "    }\n",
              "    60% {\n",
              "      border-color: transparent;\n",
              "      border-right-color: var(--fill-color);\n",
              "    }\n",
              "    80% {\n",
              "      border-color: transparent;\n",
              "      border-right-color: var(--fill-color);\n",
              "      border-bottom-color: var(--fill-color);\n",
              "    }\n",
              "    90% {\n",
              "      border-color: transparent;\n",
              "      border-bottom-color: var(--fill-color);\n",
              "    }\n",
              "  }\n",
              "</style>\n",
              "\n",
              "  <script>\n",
              "    async function quickchart(key) {\n",
              "      const quickchartButtonEl =\n",
              "        document.querySelector('#' + key + ' button');\n",
              "      quickchartButtonEl.disabled = true;  // To prevent multiple clicks.\n",
              "      quickchartButtonEl.classList.add('colab-df-spinner');\n",
              "      try {\n",
              "        const charts = await google.colab.kernel.invokeFunction(\n",
              "            'suggestCharts', [key], {});\n",
              "      } catch (error) {\n",
              "        console.error('Error during call to suggestCharts:', error);\n",
              "      }\n",
              "      quickchartButtonEl.classList.remove('colab-df-spinner');\n",
              "      quickchartButtonEl.classList.add('colab-df-quickchart-complete');\n",
              "    }\n",
              "    (() => {\n",
              "      let quickchartButtonEl =\n",
              "        document.querySelector('#df-33d7290d-5ee7-4d15-a15a-339f5a96cf6b button');\n",
              "      quickchartButtonEl.style.display =\n",
              "        google.colab.kernel.accessAllowed ? 'block' : 'none';\n",
              "    })();\n",
              "  </script>\n",
              "</div>\n",
              "\n",
              "    </div>\n",
              "  </div>\n"
            ],
            "application/vnd.google.colaboratory.intrinsic+json": {
              "type": "dataframe",
              "summary": "{\n  \"name\": \"enem_sp\",\n  \"rows\": 8,\n  \"fields\": [\n    {\n      \"column\": \"IDADE\",\n      \"properties\": {\n        \"dtype\": \"number\",\n        \"std\": 176746.08673127915,\n        \"min\": 6.465291136130305,\n        \"max\": 499940.0,\n        \"num_unique_values\": 8,\n        \"samples\": [\n          20.593387206464776,\n          18.0,\n          499940.0\n        ],\n        \"semantic_type\": \"\",\n        \"description\": \"\"\n      }\n    },\n    {\n      \"column\": \"TP_ESTADO_CIVIL\",\n      \"properties\": {\n        \"dtype\": \"number\",\n        \"std\": 176755.05611228192,\n        \"min\": 0.0,\n        \"max\": 499940.0,\n        \"num_unique_values\": 6,\n        \"samples\": [\n          499940.0,\n          1.053206384766172,\n          4.0\n        ],\n        \"semantic_type\": \"\",\n        \"description\": \"\"\n      }\n    },\n    {\n      \"column\": \"TP_NACIONALIDADE\",\n      \"properties\": {\n        \"dtype\": \"number\",\n        \"std\": 176755.06485956133,\n        \"min\": 0.0,\n        \"max\": 499940.0,\n        \"num_unique_values\": 6,\n        \"samples\": [\n          499940.0,\n          1.0299015881905829,\n          4.0\n        ],\n        \"semantic_type\": \"\",\n        \"description\": \"\"\n      }\n    },\n    {\n      \"column\": \"TP_ST_CONCLUSAO\",\n      \"properties\": {\n        \"dtype\": \"number\",\n        \"std\": 176754.9271977037,\n        \"min\": 0.5103507847553318,\n        \"max\": 499940.0,\n        \"num_unique_values\": 6,\n        \"samples\": [\n          499940.0,\n          1.476085130215626,\n          4.0\n        ],\n        \"semantic_type\": \"\",\n        \"description\": \"\"\n      }\n    },\n    {\n      \"column\": \"CO_ESCOLA\",\n      \"properties\": {\n        \"dtype\": \"number\",\n        \"std\": 19299284.96254401,\n        \"min\": 176894.0,\n        \"max\": 53001036.0,\n        \"num_unique_values\": 8,\n        \"samples\": [\n          35211378.173612446,\n          35044957.0,\n          176894.0\n        ],\n        \"semantic_type\": \"\",\n        \"description\": \"\"\n      }\n    },\n    {\n      \"column\": \"TP_PRESENCA_CN\",\n      \"properties\": {\n        \"dtype\": \"number\",\n        \"std\": 176755.1790477843,\n        \"min\": 0.0,\n        \"max\": 499940.0,\n        \"num_unique_values\": 3,\n        \"samples\": [\n          499940.0,\n          1.0,\n          0.0\n        ],\n        \"semantic_type\": \"\",\n        \"description\": \"\"\n      }\n    },\n    {\n      \"column\": \"TP_PRESENCA_CH\",\n      \"properties\": {\n        \"dtype\": \"number\",\n        \"std\": 176755.1790477843,\n        \"min\": 0.0,\n        \"max\": 499940.0,\n        \"num_unique_values\": 3,\n        \"samples\": [\n          499940.0,\n          1.0,\n          0.0\n        ],\n        \"semantic_type\": \"\",\n        \"description\": \"\"\n      }\n    },\n    {\n      \"column\": \"TP_PRESENCA_LC\",\n      \"properties\": {\n        \"dtype\": \"number\",\n        \"std\": 176755.1790477843,\n        \"min\": 0.0,\n        \"max\": 499940.0,\n        \"num_unique_values\": 3,\n        \"samples\": [\n          499940.0,\n          1.0,\n          0.0\n        ],\n        \"semantic_type\": \"\",\n        \"description\": \"\"\n      }\n    },\n    {\n      \"column\": \"TP_PRESENCA_MT\",\n      \"properties\": {\n        \"dtype\": \"number\",\n        \"std\": 176755.1790477843,\n        \"min\": 0.0,\n        \"max\": 499940.0,\n        \"num_unique_values\": 3,\n        \"samples\": [\n          499940.0,\n          1.0,\n          0.0\n        ],\n        \"semantic_type\": \"\",\n        \"description\": \"\"\n      }\n    },\n    {\n      \"column\": \"NOTA_CN\",\n      \"properties\": {\n        \"dtype\": \"number\",\n        \"std\": 176609.2623840366,\n        \"min\": 0.0,\n        \"max\": 499940.0,\n        \"num_unique_values\": 8,\n        \"samples\": [\n          449.91700044005285,\n          478.1,\n          499940.0\n        ],\n        \"semantic_type\": \"\",\n        \"description\": \"\"\n      }\n    },\n    {\n      \"column\": \"NOTA_CH\",\n      \"properties\": {\n        \"dtype\": \"number\",\n        \"std\": 176603.2073848125,\n        \"min\": 0.0,\n        \"max\": 499940.0,\n        \"num_unique_values\": 8,\n        \"samples\": [\n          482.228053966476,\n          523.7,\n          499940.0\n        ],\n        \"semantic_type\": \"\",\n        \"description\": \"\"\n      }\n    },\n    {\n      \"column\": \"NOTA_LC\",\n      \"properties\": {\n        \"dtype\": \"number\",\n        \"std\": 176602.8609296981,\n        \"min\": 0.0,\n        \"max\": 499940.0,\n        \"num_unique_values\": 8,\n        \"samples\": [\n          491.94126215145815,\n          538.3,\n          499940.0\n        ],\n        \"semantic_type\": \"\",\n        \"description\": \"\"\n      }\n    },\n    {\n      \"column\": \"NOTA_MT\",\n      \"properties\": {\n        \"dtype\": \"number\",\n        \"std\": 176592.91789284482,\n        \"min\": 0.0,\n        \"max\": 499940.0,\n        \"num_unique_values\": 8,\n        \"samples\": [\n          497.5942403088371,\n          511.8,\n          499940.0\n        ],\n        \"semantic_type\": \"\",\n        \"description\": \"\"\n      }\n    },\n    {\n      \"column\": \"TP_STATUS_REDACAO\",\n      \"properties\": {\n        \"dtype\": \"number\",\n        \"std\": 176754.74185480742,\n        \"min\": 0.5843142960762996,\n        \"max\": 499940.0,\n        \"num_unique_values\": 5,\n        \"samples\": [\n          1.072104652558307,\n          9.0,\n          0.5843142960762996\n        ],\n        \"semantic_type\": \"\",\n        \"description\": \"\"\n      }\n    },\n    {\n      \"column\": \"COMP1\",\n      \"properties\": {\n        \"dtype\": \"number\",\n        \"std\": 176718.43946900548,\n        \"min\": 0.0,\n        \"max\": 499940.0,\n        \"num_unique_values\": 7,\n        \"samples\": [\n          499940.0,\n          125.00076009121095,\n          140.0\n        ],\n        \"semantic_type\": \"\",\n        \"description\": \"\"\n      }\n    },\n    {\n      \"column\": \"COMP2\",\n      \"properties\": {\n        \"dtype\": \"number\",\n        \"std\": 176717.76798094172,\n        \"min\": 0.0,\n        \"max\": 499940.0,\n        \"num_unique_values\": 7,\n        \"samples\": [\n          499940.0,\n          127.06680801696204,\n          140.0\n        ],\n        \"semantic_type\": \"\",\n        \"description\": \"\"\n      }\n    },\n    {\n      \"column\": \"COMP3\",\n      \"properties\": {\n        \"dtype\": \"number\",\n        \"std\": 176719.3525232557,\n        \"min\": 0.0,\n        \"max\": 499940.0,\n        \"num_unique_values\": 8,\n        \"samples\": [\n          118.76069128295396,\n          120.0,\n          499940.0\n        ],\n        \"semantic_type\": \"\",\n        \"description\": \"\"\n      }\n    },\n    {\n      \"column\": \"COMP4\",\n      \"properties\": {\n        \"dtype\": \"number\",\n        \"std\": 176718.1745767074,\n        \"min\": 0.0,\n        \"max\": 499940.0,\n        \"num_unique_values\": 7,\n        \"samples\": [\n          499940.0,\n          124.98935872304676,\n          140.0\n        ],\n        \"semantic_type\": \"\",\n        \"description\": \"\"\n      }\n    },\n    {\n      \"column\": \"COMP5\",\n      \"properties\": {\n        \"dtype\": \"number\",\n        \"std\": 176722.4101803457,\n        \"min\": 0.0,\n        \"max\": 499940.0,\n        \"num_unique_values\": 8,\n        \"samples\": [\n          97.20070408449014,\n          100.0,\n          499940.0\n        ],\n        \"semantic_type\": \"\",\n        \"description\": \"\"\n      }\n    },\n    {\n      \"column\": \"NOTA_REDACAO\",\n      \"properties\": {\n        \"dtype\": \"number\",\n        \"std\": 176576.77224623866,\n        \"min\": 0.0,\n        \"max\": 499940.0,\n        \"num_unique_values\": 8,\n        \"samples\": [\n          593.0183221986639,\n          600.0,\n          499940.0\n        ],\n        \"semantic_type\": \"\",\n        \"description\": \"\"\n      }\n    }\n  ]\n}"
            }
          },
          "metadata": {},
          "execution_count": 20
        }
      ]
    },
    {
      "cell_type": "code",
      "source": [
        "round(enem_sp.describe().T, 2)"
      ],
      "metadata": {
        "colab": {
          "base_uri": "https://localhost:8080/",
          "height": 677
        },
        "id": "JRlnYbCx5ETa",
        "outputId": "b888d761-a0c2-4040-ca91-5e2d99f9dd7d"
      },
      "execution_count": 21,
      "outputs": [
        {
          "output_type": "execute_result",
          "data": {
            "text/plain": [
              "                      count         mean        std         min         25%  \\\n",
              "IDADE              499940.0        20.59       6.47        12.0        17.0   \n",
              "TP_ESTADO_CIVIL    499940.0         1.05       0.38         0.0         1.0   \n",
              "TP_NACIONALIDADE   499940.0         1.03       0.23         0.0         1.0   \n",
              "TP_ST_CONCLUSAO    499940.0         1.48       0.51         1.0         1.0   \n",
              "CO_ESCOLA          176894.0  35211378.17  443039.20  11003065.0  35016251.0   \n",
              "TP_PRESENCA_CN     499940.0         1.00       0.00         1.0         1.0   \n",
              "TP_PRESENCA_CH     499940.0         1.00       0.00         1.0         1.0   \n",
              "TP_PRESENCA_LC     499940.0         1.00       0.00         1.0         1.0   \n",
              "TP_PRESENCA_MT     499940.0         1.00       0.00         1.0         1.0   \n",
              "NOTA_CN            499940.0       449.92     152.98         0.0       412.4   \n",
              "NOTA_CH            499940.0       482.23     161.12         0.0       450.6   \n",
              "NOTA_LC            499940.0       491.94     156.25         0.0       490.1   \n",
              "NOTA_MT            499940.0       497.59     183.47         0.0       427.9   \n",
              "TP_STATUS_REDACAO  499940.0         1.07       0.58         1.0         1.0   \n",
              "COMP1              499940.0       125.00      28.63         0.0       120.0   \n",
              "COMP2              499940.0       127.07      39.85         0.0       120.0   \n",
              "COMP3              499940.0       118.76      36.78         0.0       100.0   \n",
              "COMP4              499940.0       124.99      33.88         0.0       120.0   \n",
              "COMP5              499940.0        97.20      57.79         0.0        60.0   \n",
              "NOTA_REDACAO       499940.0       593.02     170.54         0.0       500.0   \n",
              "\n",
              "                          50%         75%         max  \n",
              "IDADE                    18.0        21.0        91.0  \n",
              "TP_ESTADO_CIVIL           1.0         1.0         4.0  \n",
              "TP_NACIONALIDADE          1.0         1.0         4.0  \n",
              "TP_ST_CONCLUSAO           1.0         2.0         4.0  \n",
              "CO_ESCOLA          35044957.0  35290701.0  53001036.0  \n",
              "TP_PRESENCA_CN            1.0         1.0         1.0  \n",
              "TP_PRESENCA_CH            1.0         1.0         1.0  \n",
              "TP_PRESENCA_LC            1.0         1.0         1.0  \n",
              "TP_PRESENCA_MT            1.0         1.0         1.0  \n",
              "NOTA_CN                 478.1       544.4       860.9  \n",
              "NOTA_CH                 523.7       578.1       822.7  \n",
              "NOTA_LC                 538.3       576.2       772.3  \n",
              "NOTA_MT                 511.8       617.9       984.7  \n",
              "TP_STATUS_REDACAO         1.0         1.0         9.0  \n",
              "COMP1                   120.0       140.0       200.0  \n",
              "COMP2                   120.0       140.0       200.0  \n",
              "COMP3                   120.0       140.0       200.0  \n",
              "COMP4                   120.0       140.0       200.0  \n",
              "COMP5                   100.0       140.0       200.0  \n",
              "NOTA_REDACAO            600.0       680.0      1000.0  "
            ],
            "text/html": [
              "\n",
              "  <div id=\"df-ec80f92b-bdda-4564-a434-d05f3b0d7c7a\" class=\"colab-df-container\">\n",
              "    <div>\n",
              "<style scoped>\n",
              "    .dataframe tbody tr th:only-of-type {\n",
              "        vertical-align: middle;\n",
              "    }\n",
              "\n",
              "    .dataframe tbody tr th {\n",
              "        vertical-align: top;\n",
              "    }\n",
              "\n",
              "    .dataframe thead th {\n",
              "        text-align: right;\n",
              "    }\n",
              "</style>\n",
              "<table border=\"1\" class=\"dataframe\">\n",
              "  <thead>\n",
              "    <tr style=\"text-align: right;\">\n",
              "      <th></th>\n",
              "      <th>count</th>\n",
              "      <th>mean</th>\n",
              "      <th>std</th>\n",
              "      <th>min</th>\n",
              "      <th>25%</th>\n",
              "      <th>50%</th>\n",
              "      <th>75%</th>\n",
              "      <th>max</th>\n",
              "    </tr>\n",
              "  </thead>\n",
              "  <tbody>\n",
              "    <tr>\n",
              "      <th>IDADE</th>\n",
              "      <td>499940.0</td>\n",
              "      <td>20.59</td>\n",
              "      <td>6.47</td>\n",
              "      <td>12.0</td>\n",
              "      <td>17.0</td>\n",
              "      <td>18.0</td>\n",
              "      <td>21.0</td>\n",
              "      <td>91.0</td>\n",
              "    </tr>\n",
              "    <tr>\n",
              "      <th>TP_ESTADO_CIVIL</th>\n",
              "      <td>499940.0</td>\n",
              "      <td>1.05</td>\n",
              "      <td>0.38</td>\n",
              "      <td>0.0</td>\n",
              "      <td>1.0</td>\n",
              "      <td>1.0</td>\n",
              "      <td>1.0</td>\n",
              "      <td>4.0</td>\n",
              "    </tr>\n",
              "    <tr>\n",
              "      <th>TP_NACIONALIDADE</th>\n",
              "      <td>499940.0</td>\n",
              "      <td>1.03</td>\n",
              "      <td>0.23</td>\n",
              "      <td>0.0</td>\n",
              "      <td>1.0</td>\n",
              "      <td>1.0</td>\n",
              "      <td>1.0</td>\n",
              "      <td>4.0</td>\n",
              "    </tr>\n",
              "    <tr>\n",
              "      <th>TP_ST_CONCLUSAO</th>\n",
              "      <td>499940.0</td>\n",
              "      <td>1.48</td>\n",
              "      <td>0.51</td>\n",
              "      <td>1.0</td>\n",
              "      <td>1.0</td>\n",
              "      <td>1.0</td>\n",
              "      <td>2.0</td>\n",
              "      <td>4.0</td>\n",
              "    </tr>\n",
              "    <tr>\n",
              "      <th>CO_ESCOLA</th>\n",
              "      <td>176894.0</td>\n",
              "      <td>35211378.17</td>\n",
              "      <td>443039.20</td>\n",
              "      <td>11003065.0</td>\n",
              "      <td>35016251.0</td>\n",
              "      <td>35044957.0</td>\n",
              "      <td>35290701.0</td>\n",
              "      <td>53001036.0</td>\n",
              "    </tr>\n",
              "    <tr>\n",
              "      <th>TP_PRESENCA_CN</th>\n",
              "      <td>499940.0</td>\n",
              "      <td>1.00</td>\n",
              "      <td>0.00</td>\n",
              "      <td>1.0</td>\n",
              "      <td>1.0</td>\n",
              "      <td>1.0</td>\n",
              "      <td>1.0</td>\n",
              "      <td>1.0</td>\n",
              "    </tr>\n",
              "    <tr>\n",
              "      <th>TP_PRESENCA_CH</th>\n",
              "      <td>499940.0</td>\n",
              "      <td>1.00</td>\n",
              "      <td>0.00</td>\n",
              "      <td>1.0</td>\n",
              "      <td>1.0</td>\n",
              "      <td>1.0</td>\n",
              "      <td>1.0</td>\n",
              "      <td>1.0</td>\n",
              "    </tr>\n",
              "    <tr>\n",
              "      <th>TP_PRESENCA_LC</th>\n",
              "      <td>499940.0</td>\n",
              "      <td>1.00</td>\n",
              "      <td>0.00</td>\n",
              "      <td>1.0</td>\n",
              "      <td>1.0</td>\n",
              "      <td>1.0</td>\n",
              "      <td>1.0</td>\n",
              "      <td>1.0</td>\n",
              "    </tr>\n",
              "    <tr>\n",
              "      <th>TP_PRESENCA_MT</th>\n",
              "      <td>499940.0</td>\n",
              "      <td>1.00</td>\n",
              "      <td>0.00</td>\n",
              "      <td>1.0</td>\n",
              "      <td>1.0</td>\n",
              "      <td>1.0</td>\n",
              "      <td>1.0</td>\n",
              "      <td>1.0</td>\n",
              "    </tr>\n",
              "    <tr>\n",
              "      <th>NOTA_CN</th>\n",
              "      <td>499940.0</td>\n",
              "      <td>449.92</td>\n",
              "      <td>152.98</td>\n",
              "      <td>0.0</td>\n",
              "      <td>412.4</td>\n",
              "      <td>478.1</td>\n",
              "      <td>544.4</td>\n",
              "      <td>860.9</td>\n",
              "    </tr>\n",
              "    <tr>\n",
              "      <th>NOTA_CH</th>\n",
              "      <td>499940.0</td>\n",
              "      <td>482.23</td>\n",
              "      <td>161.12</td>\n",
              "      <td>0.0</td>\n",
              "      <td>450.6</td>\n",
              "      <td>523.7</td>\n",
              "      <td>578.1</td>\n",
              "      <td>822.7</td>\n",
              "    </tr>\n",
              "    <tr>\n",
              "      <th>NOTA_LC</th>\n",
              "      <td>499940.0</td>\n",
              "      <td>491.94</td>\n",
              "      <td>156.25</td>\n",
              "      <td>0.0</td>\n",
              "      <td>490.1</td>\n",
              "      <td>538.3</td>\n",
              "      <td>576.2</td>\n",
              "      <td>772.3</td>\n",
              "    </tr>\n",
              "    <tr>\n",
              "      <th>NOTA_MT</th>\n",
              "      <td>499940.0</td>\n",
              "      <td>497.59</td>\n",
              "      <td>183.47</td>\n",
              "      <td>0.0</td>\n",
              "      <td>427.9</td>\n",
              "      <td>511.8</td>\n",
              "      <td>617.9</td>\n",
              "      <td>984.7</td>\n",
              "    </tr>\n",
              "    <tr>\n",
              "      <th>TP_STATUS_REDACAO</th>\n",
              "      <td>499940.0</td>\n",
              "      <td>1.07</td>\n",
              "      <td>0.58</td>\n",
              "      <td>1.0</td>\n",
              "      <td>1.0</td>\n",
              "      <td>1.0</td>\n",
              "      <td>1.0</td>\n",
              "      <td>9.0</td>\n",
              "    </tr>\n",
              "    <tr>\n",
              "      <th>COMP1</th>\n",
              "      <td>499940.0</td>\n",
              "      <td>125.00</td>\n",
              "      <td>28.63</td>\n",
              "      <td>0.0</td>\n",
              "      <td>120.0</td>\n",
              "      <td>120.0</td>\n",
              "      <td>140.0</td>\n",
              "      <td>200.0</td>\n",
              "    </tr>\n",
              "    <tr>\n",
              "      <th>COMP2</th>\n",
              "      <td>499940.0</td>\n",
              "      <td>127.07</td>\n",
              "      <td>39.85</td>\n",
              "      <td>0.0</td>\n",
              "      <td>120.0</td>\n",
              "      <td>120.0</td>\n",
              "      <td>140.0</td>\n",
              "      <td>200.0</td>\n",
              "    </tr>\n",
              "    <tr>\n",
              "      <th>COMP3</th>\n",
              "      <td>499940.0</td>\n",
              "      <td>118.76</td>\n",
              "      <td>36.78</td>\n",
              "      <td>0.0</td>\n",
              "      <td>100.0</td>\n",
              "      <td>120.0</td>\n",
              "      <td>140.0</td>\n",
              "      <td>200.0</td>\n",
              "    </tr>\n",
              "    <tr>\n",
              "      <th>COMP4</th>\n",
              "      <td>499940.0</td>\n",
              "      <td>124.99</td>\n",
              "      <td>33.88</td>\n",
              "      <td>0.0</td>\n",
              "      <td>120.0</td>\n",
              "      <td>120.0</td>\n",
              "      <td>140.0</td>\n",
              "      <td>200.0</td>\n",
              "    </tr>\n",
              "    <tr>\n",
              "      <th>COMP5</th>\n",
              "      <td>499940.0</td>\n",
              "      <td>97.20</td>\n",
              "      <td>57.79</td>\n",
              "      <td>0.0</td>\n",
              "      <td>60.0</td>\n",
              "      <td>100.0</td>\n",
              "      <td>140.0</td>\n",
              "      <td>200.0</td>\n",
              "    </tr>\n",
              "    <tr>\n",
              "      <th>NOTA_REDACAO</th>\n",
              "      <td>499940.0</td>\n",
              "      <td>593.02</td>\n",
              "      <td>170.54</td>\n",
              "      <td>0.0</td>\n",
              "      <td>500.0</td>\n",
              "      <td>600.0</td>\n",
              "      <td>680.0</td>\n",
              "      <td>1000.0</td>\n",
              "    </tr>\n",
              "  </tbody>\n",
              "</table>\n",
              "</div>\n",
              "    <div class=\"colab-df-buttons\">\n",
              "\n",
              "  <div class=\"colab-df-container\">\n",
              "    <button class=\"colab-df-convert\" onclick=\"convertToInteractive('df-ec80f92b-bdda-4564-a434-d05f3b0d7c7a')\"\n",
              "            title=\"Convert this dataframe to an interactive table.\"\n",
              "            style=\"display:none;\">\n",
              "\n",
              "  <svg xmlns=\"http://www.w3.org/2000/svg\" height=\"24px\" viewBox=\"0 -960 960 960\">\n",
              "    <path d=\"M120-120v-720h720v720H120Zm60-500h600v-160H180v160Zm220 220h160v-160H400v160Zm0 220h160v-160H400v160ZM180-400h160v-160H180v160Zm440 0h160v-160H620v160ZM180-180h160v-160H180v160Zm440 0h160v-160H620v160Z\"/>\n",
              "  </svg>\n",
              "    </button>\n",
              "\n",
              "  <style>\n",
              "    .colab-df-container {\n",
              "      display:flex;\n",
              "      gap: 12px;\n",
              "    }\n",
              "\n",
              "    .colab-df-convert {\n",
              "      background-color: #E8F0FE;\n",
              "      border: none;\n",
              "      border-radius: 50%;\n",
              "      cursor: pointer;\n",
              "      display: none;\n",
              "      fill: #1967D2;\n",
              "      height: 32px;\n",
              "      padding: 0 0 0 0;\n",
              "      width: 32px;\n",
              "    }\n",
              "\n",
              "    .colab-df-convert:hover {\n",
              "      background-color: #E2EBFA;\n",
              "      box-shadow: 0px 1px 2px rgba(60, 64, 67, 0.3), 0px 1px 3px 1px rgba(60, 64, 67, 0.15);\n",
              "      fill: #174EA6;\n",
              "    }\n",
              "\n",
              "    .colab-df-buttons div {\n",
              "      margin-bottom: 4px;\n",
              "    }\n",
              "\n",
              "    [theme=dark] .colab-df-convert {\n",
              "      background-color: #3B4455;\n",
              "      fill: #D2E3FC;\n",
              "    }\n",
              "\n",
              "    [theme=dark] .colab-df-convert:hover {\n",
              "      background-color: #434B5C;\n",
              "      box-shadow: 0px 1px 3px 1px rgba(0, 0, 0, 0.15);\n",
              "      filter: drop-shadow(0px 1px 2px rgba(0, 0, 0, 0.3));\n",
              "      fill: #FFFFFF;\n",
              "    }\n",
              "  </style>\n",
              "\n",
              "    <script>\n",
              "      const buttonEl =\n",
              "        document.querySelector('#df-ec80f92b-bdda-4564-a434-d05f3b0d7c7a button.colab-df-convert');\n",
              "      buttonEl.style.display =\n",
              "        google.colab.kernel.accessAllowed ? 'block' : 'none';\n",
              "\n",
              "      async function convertToInteractive(key) {\n",
              "        const element = document.querySelector('#df-ec80f92b-bdda-4564-a434-d05f3b0d7c7a');\n",
              "        const dataTable =\n",
              "          await google.colab.kernel.invokeFunction('convertToInteractive',\n",
              "                                                    [key], {});\n",
              "        if (!dataTable) return;\n",
              "\n",
              "        const docLinkHtml = 'Like what you see? Visit the ' +\n",
              "          '<a target=\"_blank\" href=https://colab.research.google.com/notebooks/data_table.ipynb>data table notebook</a>'\n",
              "          + ' to learn more about interactive tables.';\n",
              "        element.innerHTML = '';\n",
              "        dataTable['output_type'] = 'display_data';\n",
              "        await google.colab.output.renderOutput(dataTable, element);\n",
              "        const docLink = document.createElement('div');\n",
              "        docLink.innerHTML = docLinkHtml;\n",
              "        element.appendChild(docLink);\n",
              "      }\n",
              "    </script>\n",
              "  </div>\n",
              "\n",
              "\n",
              "<div id=\"df-c9050aa6-8a67-4c67-8e57-f459302d7712\">\n",
              "  <button class=\"colab-df-quickchart\" onclick=\"quickchart('df-c9050aa6-8a67-4c67-8e57-f459302d7712')\"\n",
              "            title=\"Suggest charts\"\n",
              "            style=\"display:none;\">\n",
              "\n",
              "<svg xmlns=\"http://www.w3.org/2000/svg\" height=\"24px\"viewBox=\"0 0 24 24\"\n",
              "     width=\"24px\">\n",
              "    <g>\n",
              "        <path d=\"M19 3H5c-1.1 0-2 .9-2 2v14c0 1.1.9 2 2 2h14c1.1 0 2-.9 2-2V5c0-1.1-.9-2-2-2zM9 17H7v-7h2v7zm4 0h-2V7h2v10zm4 0h-2v-4h2v4z\"/>\n",
              "    </g>\n",
              "</svg>\n",
              "  </button>\n",
              "\n",
              "<style>\n",
              "  .colab-df-quickchart {\n",
              "      --bg-color: #E8F0FE;\n",
              "      --fill-color: #1967D2;\n",
              "      --hover-bg-color: #E2EBFA;\n",
              "      --hover-fill-color: #174EA6;\n",
              "      --disabled-fill-color: #AAA;\n",
              "      --disabled-bg-color: #DDD;\n",
              "  }\n",
              "\n",
              "  [theme=dark] .colab-df-quickchart {\n",
              "      --bg-color: #3B4455;\n",
              "      --fill-color: #D2E3FC;\n",
              "      --hover-bg-color: #434B5C;\n",
              "      --hover-fill-color: #FFFFFF;\n",
              "      --disabled-bg-color: #3B4455;\n",
              "      --disabled-fill-color: #666;\n",
              "  }\n",
              "\n",
              "  .colab-df-quickchart {\n",
              "    background-color: var(--bg-color);\n",
              "    border: none;\n",
              "    border-radius: 50%;\n",
              "    cursor: pointer;\n",
              "    display: none;\n",
              "    fill: var(--fill-color);\n",
              "    height: 32px;\n",
              "    padding: 0;\n",
              "    width: 32px;\n",
              "  }\n",
              "\n",
              "  .colab-df-quickchart:hover {\n",
              "    background-color: var(--hover-bg-color);\n",
              "    box-shadow: 0 1px 2px rgba(60, 64, 67, 0.3), 0 1px 3px 1px rgba(60, 64, 67, 0.15);\n",
              "    fill: var(--button-hover-fill-color);\n",
              "  }\n",
              "\n",
              "  .colab-df-quickchart-complete:disabled,\n",
              "  .colab-df-quickchart-complete:disabled:hover {\n",
              "    background-color: var(--disabled-bg-color);\n",
              "    fill: var(--disabled-fill-color);\n",
              "    box-shadow: none;\n",
              "  }\n",
              "\n",
              "  .colab-df-spinner {\n",
              "    border: 2px solid var(--fill-color);\n",
              "    border-color: transparent;\n",
              "    border-bottom-color: var(--fill-color);\n",
              "    animation:\n",
              "      spin 1s steps(1) infinite;\n",
              "  }\n",
              "\n",
              "  @keyframes spin {\n",
              "    0% {\n",
              "      border-color: transparent;\n",
              "      border-bottom-color: var(--fill-color);\n",
              "      border-left-color: var(--fill-color);\n",
              "    }\n",
              "    20% {\n",
              "      border-color: transparent;\n",
              "      border-left-color: var(--fill-color);\n",
              "      border-top-color: var(--fill-color);\n",
              "    }\n",
              "    30% {\n",
              "      border-color: transparent;\n",
              "      border-left-color: var(--fill-color);\n",
              "      border-top-color: var(--fill-color);\n",
              "      border-right-color: var(--fill-color);\n",
              "    }\n",
              "    40% {\n",
              "      border-color: transparent;\n",
              "      border-right-color: var(--fill-color);\n",
              "      border-top-color: var(--fill-color);\n",
              "    }\n",
              "    60% {\n",
              "      border-color: transparent;\n",
              "      border-right-color: var(--fill-color);\n",
              "    }\n",
              "    80% {\n",
              "      border-color: transparent;\n",
              "      border-right-color: var(--fill-color);\n",
              "      border-bottom-color: var(--fill-color);\n",
              "    }\n",
              "    90% {\n",
              "      border-color: transparent;\n",
              "      border-bottom-color: var(--fill-color);\n",
              "    }\n",
              "  }\n",
              "</style>\n",
              "\n",
              "  <script>\n",
              "    async function quickchart(key) {\n",
              "      const quickchartButtonEl =\n",
              "        document.querySelector('#' + key + ' button');\n",
              "      quickchartButtonEl.disabled = true;  // To prevent multiple clicks.\n",
              "      quickchartButtonEl.classList.add('colab-df-spinner');\n",
              "      try {\n",
              "        const charts = await google.colab.kernel.invokeFunction(\n",
              "            'suggestCharts', [key], {});\n",
              "      } catch (error) {\n",
              "        console.error('Error during call to suggestCharts:', error);\n",
              "      }\n",
              "      quickchartButtonEl.classList.remove('colab-df-spinner');\n",
              "      quickchartButtonEl.classList.add('colab-df-quickchart-complete');\n",
              "    }\n",
              "    (() => {\n",
              "      let quickchartButtonEl =\n",
              "        document.querySelector('#df-c9050aa6-8a67-4c67-8e57-f459302d7712 button');\n",
              "      quickchartButtonEl.style.display =\n",
              "        google.colab.kernel.accessAllowed ? 'block' : 'none';\n",
              "    })();\n",
              "  </script>\n",
              "</div>\n",
              "\n",
              "    </div>\n",
              "  </div>\n"
            ],
            "application/vnd.google.colaboratory.intrinsic+json": {
              "type": "dataframe",
              "summary": "{\n  \"name\": \"round(enem_sp\",\n  \"rows\": 20,\n  \"fields\": [\n    {\n      \"column\": \"count\",\n      \"properties\": {\n        \"dtype\": \"number\",\n        \"std\": 72235.2815859397,\n        \"min\": 176894.0,\n        \"max\": 499940.0,\n        \"num_unique_values\": 2,\n        \"samples\": [\n          176894.0,\n          499940.0\n        ],\n        \"semantic_type\": \"\",\n        \"description\": \"\"\n      }\n    },\n    {\n      \"column\": \"mean\",\n      \"properties\": {\n        \"dtype\": \"number\",\n        \"std\": 7873466.601777331,\n        \"min\": 1.0,\n        \"max\": 35211378.17,\n        \"num_unique_values\": 17,\n        \"samples\": [\n          20.59,\n          1.05\n        ],\n        \"semantic_type\": \"\",\n        \"description\": \"\"\n      }\n    },\n    {\n      \"column\": \"std\",\n      \"properties\": {\n        \"dtype\": \"number\",\n        \"std\": 99054.48495633231,\n        \"min\": 0.0,\n        \"max\": 443039.2,\n        \"num_unique_values\": 17,\n        \"samples\": [\n          6.47,\n          0.38\n        ],\n        \"semantic_type\": \"\",\n        \"description\": \"\"\n      }\n    },\n    {\n      \"column\": \"min\",\n      \"properties\": {\n        \"dtype\": \"number\",\n        \"std\": 2460359.9182482753,\n        \"min\": 0.0,\n        \"max\": 11003065.0,\n        \"num_unique_values\": 4,\n        \"samples\": [\n          0.0,\n          11003065.0\n        ],\n        \"semantic_type\": \"\",\n        \"description\": \"\"\n      }\n    },\n    {\n      \"column\": \"25%\",\n      \"properties\": {\n        \"dtype\": \"number\",\n        \"std\": 7829838.49904666,\n        \"min\": 1.0,\n        \"max\": 35016251.0,\n        \"num_unique_values\": 11,\n        \"samples\": [\n          490.1,\n          17.0\n        ],\n        \"semantic_type\": \"\",\n        \"description\": \"\"\n      }\n    },\n    {\n      \"column\": \"50%\",\n      \"properties\": {\n        \"dtype\": \"number\",\n        \"std\": 7836252.273653655,\n        \"min\": 1.0,\n        \"max\": 35044957.0,\n        \"num_unique_values\": 10,\n        \"samples\": [\n          100.0,\n          1.0\n        ],\n        \"semantic_type\": \"\",\n        \"description\": \"\"\n      }\n    },\n    {\n      \"column\": \"75%\",\n      \"properties\": {\n        \"dtype\": \"number\",\n        \"std\": 7891196.787346907,\n        \"min\": 1.0,\n        \"max\": 35290701.0,\n        \"num_unique_values\": 10,\n        \"samples\": [\n          140.0,\n          1.0\n        ],\n        \"semantic_type\": \"\",\n        \"description\": \"\"\n      }\n    },\n    {\n      \"column\": \"max\",\n      \"properties\": {\n        \"dtype\": \"number\",\n        \"std\": 11851326.54869589,\n        \"min\": 1.0,\n        \"max\": 53001036.0,\n        \"num_unique_values\": 11,\n        \"samples\": [\n          822.7,\n          91.0\n        ],\n        \"semantic_type\": \"\",\n        \"description\": \"\"\n      }\n    }\n  ]\n}"
            }
          },
          "metadata": {},
          "execution_count": 21
        }
      ]
    },
    {
      "cell_type": "markdown",
      "source": [
        "# **Moda**"
      ],
      "metadata": {
        "id": "Z0K33ky45WEz"
      }
    }
  ]
}